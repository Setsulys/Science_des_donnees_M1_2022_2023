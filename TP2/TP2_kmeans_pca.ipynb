{
 "cells": [
  {
   "cell_type": "markdown",
   "id": "9b58247f-0b15-427d-a0dc-a76a713c48ea",
   "metadata": {},
   "source": [
    "# TP 2 : k-means et ACP"
   ]
  },
  {
   "cell_type": "markdown",
   "id": "f8e14853-a411-4184-ba67-3c09b2614019",
   "metadata": {},
   "source": [
    "**Avant de commencer :** Merci de bien lire le préambule et l'énoncé de ce TP. Ça vous évitera de perdre beaucoup de temps ensuite. "
   ]
  },
  {
   "cell_type": "markdown",
   "id": "ab662174-bc6c-42f2-9caf-e13ffd63326a",
   "metadata": {},
   "source": [
    "**Rendu :** Ce TP doit être déposé sur elearning avant le 2 novembre, 23h59. Le rendu doit contenir uniquement le fichier `.ipynb`. Le notebook doit être propre, le plus illustré et le plus commenté possible. "
   ]
  },
  {
   "cell_type": "markdown",
   "id": "edb54692-f4aa-4607-8788-a1c030aeb276",
   "metadata": {},
   "source": [
    "**Librairies :** Ce TP repose sur les librairies standard suivantes : \n",
    "- Numpy version : 1.23.1\n",
    "- Matplotlib : 3.5.2\n",
    "- Pandas version : 1.4.3\n",
    "- Scikit-learn version : 1.1.1\n",
    "- Scipy version : 1.7.3\n",
    "\n",
    "Pour vérifier qu'elles sont bien installées dans votre environnement de travail, lancez la cellule suivante. Elle ne doit pas renvoyer d'erreur (un `Warning` n'est en général pas trop embêtant). \n",
    "\n",
    "Pour les numéros _exacts_ de version, ce n'est normalement pas très grave s'il y a une petite différence (par exemple `numpy 1.22` au lieu de `1.23`), mais si vous avez une trop grosse différence (par exemple `sklearn 0.23` au lieu de `sklearn 1.1`), mettez à jour votre librairie. \n",
    "\n",
    "S'il vous manque une librairie (`No module named ...`), vous pouvez l'installer \n",
    "- Soit en utilisant votre gestionnaire d'environnement (p.ex. `conda`). \n",
    "- Soit directement depuis le notebook, en faisant\n",
    "```\n",
    "!pip install nom_de_la_librairie==numero_de_la_version\n",
    "```"
   ]
  },
  {
   "cell_type": "code",
   "execution_count": 12,
   "id": "a8cd512c-2638-4778-9a03-2327db394c9d",
   "metadata": {},
   "outputs": [
    {
     "name": "stdout",
     "output_type": "stream",
     "text": [
      "Numpy version used: 1.19.5\n",
      "Matplotlib: 3.3.4\n",
      "Pandas version used: 1.1.5\n",
      "Scikit-learn version used: 0.24.2\n",
      "Scipy version used: 1.5.4\n"
     ]
    }
   ],
   "source": [
    "import numpy as np\n",
    "import matplotlib\n",
    "import matplotlib.pyplot as plt\n",
    "import pandas as pd\n",
    "import sklearn as skl\n",
    "from sklearn import datasets\n",
    "from sklearn.cluster import KMeans\n",
    "from sklearn.decomposition import PCA\n",
    "import scipy\n",
    "from scipy.spatial import distance_matrix\n",
    "\n",
    "print(\"Numpy version used:\", np.__version__)\n",
    "print(\"Matplotlib:\", matplotlib.__version__)\n",
    "print(\"Pandas version used:\", pd.__version__)\n",
    "print(\"Scikit-learn version used:\", skl.__version__)\n",
    "print(\"Scipy version used:\", scipy.__version__)"
   ]
  },
  {
   "cell_type": "markdown",
   "id": "c02736c8-78d2-4bff-b2fb-8c1fa3c59313",
   "metadata": {},
   "source": [
    "## 1. Implémentation de l'algorithme de Lloyd"
   ]
  },
  {
   "cell_type": "markdown",
   "id": "ca8b0615-e24b-43c7-b9f3-57c250b7fbba",
   "metadata": {},
   "source": [
    "Pour commencer, nous allons implémenter nous-même l'algorithme de Lloyd (voir Chapitre 2 du cours). L'objectif principal est d'obtenir une fonction `my_kmeans(dataset, k, **args)` qui applique l'algorithme de Lloyd au `dataset` avec `k` centroïdes. Plus précisément: \n",
    "\n",
    "**Input:**\n",
    "- `dataset` est un `np.array` de taille `n x d` où `n` est le nombre d'observations et `d` la dimension de ces observations. \n",
    "- `k` est un entier > 0. \n",
    "\n",
    "**Output:** Le code devra renvoyer, _a minima_:\n",
    "- La liste finale des `k` centroïdes, sous la forme d'un `np.array` de taille `k x d` (`k` points en dimension `d`). \n",
    "\n",
    "Remarque : il est possible de largement améliorer l'implémentation ; n'hésitez pas à rajouter d'autres paramètres qui pourraient vous être utiles. "
   ]
  },
  {
   "cell_type": "markdown",
   "id": "a13cd705-1d6e-4a29-a5c7-fb7a0a50603e",
   "metadata": {},
   "source": [
    "---"
   ]
  },
  {
   "cell_type": "markdown",
   "id": "b16b79b9-d4cc-4ad7-8e83-c6ba6bfc1484",
   "metadata": {},
   "source": [
    "**Question 1 : Initialisation des centroïdes.** On se propose d'initialiser les centroïdes de la manière suivante : on tire au hasard `k` points parmi les observations du `dataset`. \n",
    "\n",
    "Compléter le code suivant pour réaliser l'initialisation des centroïdes dans l'algorithme de Lloyd. On pourra utiliser la [fonction `np.random.choice`](https://numpy.org/doc/stable/reference/random/generated/numpy.random.choice.html) de numpy."
   ]
  },
  {
   "cell_type": "code",
   "execution_count": 13,
   "id": "63e3e2f3-f2f6-4858-b223-d9086f983bb1",
   "metadata": {},
   "outputs": [],
   "source": [
    "def init_centroids(dataset, k):\n",
    "    \"\"\"\n",
    "    Initialisation des k centroides d'un dataset.\n",
    "    \n",
    "    :param dataset: np.array de taille n x d\n",
    "    :param k: int > 0. \n",
    "    :returns: np.array de taille k x d représentant l'état initial des k centroides.\n",
    "    \"\"\"\n",
    "    return dataset[np.random.choice(dataset.shape[0],k,replace=False)]"
   ]
  },
  {
   "cell_type": "code",
   "execution_count": 27,
   "id": "21ad96e7",
   "metadata": {},
   "outputs": [
    {
     "data": {
      "text/plain": [
       "array([[ 0.60225864, -1.24481165],\n",
       "       [ 1.20717273, -1.06751345],\n",
       "       [ 0.82520298,  0.65524237],\n",
       "       [ 0.94919758,  1.32185877],\n",
       "       [ 1.10866601,  0.79463791]])"
      ]
     },
     "execution_count": 27,
     "metadata": {},
     "output_type": "execute_result"
    }
   ],
   "source": [
    "centroids= init_centroids(dataset,5)\n",
    "centroids"
   ]
  },
  {
   "cell_type": "markdown",
   "id": "af6d70f2-d33d-42d9-bec7-08f449c22a9c",
   "metadata": {},
   "source": [
    "---"
   ]
  },
  {
   "cell_type": "markdown",
   "id": "0a109828-56b5-48d1-b2ae-124456ce562a",
   "metadata": {},
   "source": [
    "**Question 2 : Affectation des points.** Compléter la fonction `affectation` suivante pour renvoyer un tableau `affect` de longueur `n` (nombre d'observations) contenant des entiers de `0` à `k-1` tel que `affect[i] = j` signifie : `centroids[j]` est le centroïde le plus proche de l'observation `dataset[i]`. \n",
    "\n",
    "_Indication:_ On peut utiliser la [méthode `distance_matrix` de `scipy` ](https://docs.scipy.org/doc/scipy/reference/generated/scipy.spatial.distance_matrix.html) pour calculer la matrice `n x k` des distances entre chaque observation `dataset[i]` et chaque centroïde `centroids[j]`. Pour une matrice `A` donnée, le tableau des plus petites entrées de chaque ligne s'obtient en faisant `np.argmin(A, axis=1)`. "
   ]
  },
  {
   "cell_type": "code",
   "execution_count": 28,
   "id": "b37b9dba-2a6d-4379-bf86-4624a507e3ae",
   "metadata": {},
   "outputs": [],
   "source": [
    "def affectation(dataset, centroids):\n",
    "    \"\"\"\n",
    "    Renvoie un tableau décrivant, pour chaque point de dataset, le centroid le plus proche. \n",
    "    \n",
    "    :param dataset: np.array de taille n x d\n",
    "    :param centroids: np.array de taille k x d\n",
    "    :returns: np.array de taille n, avec des entrées entre 0 et k-1. \n",
    "    \"\"\"\n",
    "    return np.argmin(distance_matrix(dataset,centroids),axis=1)"
   ]
  },
  {
   "cell_type": "code",
   "execution_count": 29,
   "id": "98647d47",
   "metadata": {},
   "outputs": [
    {
     "data": {
      "text/plain": [
       "array([3, 4, 3, 4, 3, 2, 4, 3, 3, 4, 2, 4, 3, 2, 3, 2, 3, 2, 2, 4, 2, 4,\n",
       "       3, 3, 3, 2, 3, 2, 2, 4, 3, 3, 4, 3, 4, 2, 2, 3, 3, 3, 4, 3, 3, 3,\n",
       "       4, 4, 2, 2, 2, 3, 3, 3, 3, 3, 3, 3, 2, 2, 3, 4, 3, 3, 4, 2, 3, 2,\n",
       "       2, 4, 2, 4, 4, 2, 2, 4, 3, 4, 3, 4, 2, 4, 2, 4, 4, 2, 2, 3, 4, 4,\n",
       "       2, 3, 3, 4, 4, 2, 3, 4, 4, 4, 3, 3, 0, 0, 0, 0, 0, 0, 0, 0, 0, 0,\n",
       "       0, 0, 0, 0, 0, 0, 0, 0, 0, 0, 0, 0, 0, 0, 0, 0, 0, 0, 0, 0, 0, 0,\n",
       "       0, 0, 0, 0, 0, 0, 0, 0, 0, 0, 0, 0, 0, 0, 0, 0, 0, 0, 0, 0, 0, 0,\n",
       "       0, 0, 0, 0, 0, 0, 0, 0, 0, 0, 0, 0, 0, 0, 0, 0, 0, 0, 0, 0, 0, 0,\n",
       "       0, 0, 0, 0, 0, 0, 0, 0, 0, 0, 0, 0, 0, 0, 0, 0, 0, 0, 0, 0, 0, 0,\n",
       "       0, 0, 1, 1, 1, 1, 1, 1, 0, 1, 2, 0, 1, 1, 0, 1, 1, 0, 1, 0, 1, 1,\n",
       "       1, 0, 0, 0, 0, 1, 1, 0, 0, 1, 0, 0, 0, 1, 0, 0, 1, 1, 1, 1, 1, 0,\n",
       "       0, 1, 0, 1, 1, 2, 1, 0, 1, 0, 1, 1, 1, 0, 1, 1, 1, 1, 1, 0, 1, 1,\n",
       "       0, 1, 1, 1, 1, 1, 1, 0, 1, 1, 1, 1, 1, 0, 1, 1, 1, 1, 1, 1, 1, 1,\n",
       "       2, 1, 1, 1, 0, 1, 1, 1, 0, 1, 0, 1, 0, 0])"
      ]
     },
     "execution_count": 29,
     "metadata": {},
     "output_type": "execute_result"
    }
   ],
   "source": [
    "affect = affectation(dataset,centroids)\n",
    "affect"
   ]
  },
  {
   "cell_type": "markdown",
   "id": "d08fd025-07f1-4a5a-8e46-3f54a4a510c3",
   "metadata": {},
   "source": [
    "---"
   ]
  },
  {
   "cell_type": "markdown",
   "id": "3c4b87c2-edd7-4530-b591-6bb685a81e62",
   "metadata": {},
   "source": [
    "**Question 3: mise à jour des centroides.** Compléter le code suivant pour réaliser l'étape de mise à jour des centroïdes dans l'algorithme de Lloyd.\n",
    "\n",
    "_Indication :_ Si on a deux tableaux `A` et `B` de même longueur, l'écriture `A[np.where(B == j)]` permet de sélectionner les éléments de `A` là où `B` vaut `j`. Par exemple, \n",
    "```\n",
    "a = np.array([1,2,3,4,5,6])\n",
    "b = np.array([3,3,3,-5,1,3])\n",
    "a[np.where(b == 3)]\n",
    "```\n",
    "affiche \n",
    "```\n",
    "array([1, 2, 3, 6])\n",
    "```"
   ]
  },
  {
   "cell_type": "code",
   "execution_count": 30,
   "id": "514124bb-c2b6-404f-a01e-bba3e3534c55",
   "metadata": {},
   "outputs": [],
   "source": [
    "def maj_centroids(dataset, affect):\n",
    "    \"\"\"\n",
    "    Étant donné un tableau affect renvoyé par la fonction affectation, détermine la nouvelle position des centroïdes. \n",
    "    \n",
    "    :param dataset: np.array de taille n x d\n",
    "    :param affect: np.array de taille n, avec des entrées entre 0 et k-1. \n",
    "    :returns: np.array de taille k x d, représentant la nouvelle configuration des centroïdes après la mise-à-jour.\n",
    "    \"\"\"\n",
    "    return np.array([sum(dataset[np.where (affect == i)])/len(dataset[np.where (affect == i)]) for i in set(affect)])\n",
    "        "
   ]
  },
  {
   "cell_type": "code",
   "execution_count": 31,
   "id": "eb449d6d",
   "metadata": {},
   "outputs": [
    {
     "data": {
      "text/plain": [
       "array([[-0.60380477, -1.01530897],\n",
       "       [ 1.15378175, -1.02264512],\n",
       "       [ 0.76043819,  0.65091861],\n",
       "       [ 0.95721326,  1.27139418],\n",
       "       [ 1.22226672,  0.85025007]])"
      ]
     },
     "execution_count": 31,
     "metadata": {},
     "output_type": "execute_result"
    }
   ],
   "source": [
    "new_centroids = maj_centroids(dataset,affect)\n",
    "new_centroids"
   ]
  },
  {
   "cell_type": "markdown",
   "id": "31d26e73-9f34-4a1c-b5eb-10f65683a8c2",
   "metadata": {},
   "source": [
    "---"
   ]
  },
  {
   "cell_type": "markdown",
   "id": "501d1722-82aa-451f-9397-38bc75ece9f4",
   "metadata": {},
   "source": [
    "**Question 4 : test de convergence.** On rappelle que l'algorithme de Lloyd répète les opérations `affectation` et `maj_centroids` jusqu'à convergence, c'est-à-dire jusqu'à ce que les centroïdes ne bougent plus. Pour ça, on va tester si deux tableaux `centroids` et `new_centroids`, qui représentent respectivement une ancienne et une nouvelle configuration pour les centroïdes, sont proches (on évite de tester l'égalité parfaite pour éviter les erreurs numériques). \n",
    "\n",
    "Compléter le code suivant. On pourra utiliser la [méthode `np.linalg.norm(a-b)`](https://numpy.org/doc/stable/reference/generated/numpy.linalg.norm.html) pour mesurer la distance entre deux tableaux `a` et `b`. "
   ]
  },
  {
   "cell_type": "code",
   "execution_count": 32,
   "id": "6f6c11cf-a530-487c-86b4-c89cd259e667",
   "metadata": {},
   "outputs": [],
   "source": [
    "def test_convergence(centroids, new_centroids, tol=1e-5):\n",
    "    \"\"\"\n",
    "    Détermine si deux tableaux (centroids et new_centroids) de même dimensions sont (presque) égaux. \n",
    "    \n",
    "    :param centroids: np.array de taille k x d, représentant l'ancienne configuration des centroides. \n",
    "    :param new_centroids: np.array de taille k x d, représentant la nouvelle configuration (après affectation et màj).\n",
    "    :param tol: float, default 1e-5, critère de tolérance pour déterminer si on considère qu'on a atteint la convergence.\n",
    "    :returns: boolean, indiquant si on a convergé ou pas encore.\n",
    "    \"\"\"\n",
    "    return np.linalg.norm(centroids-new_centroids) < tol\n",
    "    "
   ]
  },
  {
   "cell_type": "code",
   "execution_count": 33,
   "id": "9b684181",
   "metadata": {},
   "outputs": [
    {
     "data": {
      "text/plain": [
       "False"
      ]
     },
     "execution_count": 33,
     "metadata": {},
     "output_type": "execute_result"
    }
   ],
   "source": [
    "converge = test_convergence(centroids,new_centroids)\n",
    "converge"
   ]
  },
  {
   "cell_type": "markdown",
   "id": "2b690b92-14ac-410b-9476-8d0ef9977744",
   "metadata": {},
   "source": [
    "---"
   ]
  },
  {
   "cell_type": "markdown",
   "id": "0f721db6-5118-40fc-bb9d-6557a9c8796b",
   "metadata": {},
   "source": [
    "**Question 5: Implémentation.** En se servant des implémentations précédentes, implémenter l'algorithme de Lloyd dans la cellule suivante. "
   ]
  },
  {
   "cell_type": "code",
   "execution_count": 36,
   "id": "b0ab1d1e-03ae-47ed-ab48-78f718c68e23",
   "metadata": {},
   "outputs": [],
   "source": [
    "def my_kmeans(dataset, k):\n",
    "    \"\"\"\n",
    "    :param dataset: np.array de taille n x d\n",
    "    :param k: int > 0. \n",
    "    :returns: np.array de taille k x d représentant l'état final des k centroides.\n",
    "    \"\"\"\n",
    "    return maj_centroids(dataset,affectation(dataset,init_centroids(dataset,k)))"
   ]
  },
  {
   "cell_type": "code",
   "execution_count": 37,
   "id": "2043d2a3",
   "metadata": {},
   "outputs": [
    {
     "data": {
      "text/plain": [
       "array([[-1.01269413, -1.33525862],\n",
       "       [-0.99943652, -0.80693146],\n",
       "       [ 0.90839053,  0.96076902],\n",
       "       [ 0.95506935, -1.0171639 ],\n",
       "       [ 1.45863356,  1.12213219]])"
      ]
     },
     "execution_count": 37,
     "metadata": {},
     "output_type": "execute_result"
    }
   ],
   "source": [
    "my_kmeans(dataset,5)"
   ]
  },
  {
   "cell_type": "markdown",
   "id": "81bfe529-3040-4e05-a4c1-df464c7f167f",
   "metadata": {},
   "source": [
    "---"
   ]
  },
  {
   "cell_type": "markdown",
   "id": "c910a48a-f86d-46e2-9c81-216edf0a3666",
   "metadata": {},
   "source": [
    "**Question 6: test.** On propose un petit jeu de données très simple pour tester votre code. \n",
    "\n",
    "Lancez votre algorithme sur le `dataset` proposé avec `k=2`, `k=3`, puis `k=5`, et écrire du code pour afficher les centroïdes obtenus après convergence de votre algorithme. "
   ]
  },
  {
   "cell_type": "code",
   "execution_count": 23,
   "id": "2cf09c7b-7b09-4487-b8df-43bc536f9187",
   "metadata": {},
   "outputs": [
    {
     "data": {
      "text/plain": [
       "<matplotlib.collections.PathCollection at 0x7f6b46fca5f8>"
      ]
     },
     "execution_count": 23,
     "metadata": {},
     "output_type": "execute_result"
    },
    {
     "data": {
      "image/png": "[encoded data removed]",
      "text/plain": [
       "<Figure size 432x288 with 1 Axes>"
      ]
     },
     "metadata": {
      "needs_background": "light"
     },
     "output_type": "display_data"
    }
   ],
   "source": [
    "npts = 100\n",
    "sigma = 0.3\n",
    "c1 = np.array([1,1])\n",
    "c2 = np.array([-1,-1])\n",
    "c3 = np.array([1, -1])\n",
    "dataset = np.concatenate([c1 + sigma*np.random.randn(npts, 2), c2 + sigma*np.random.randn(npts, 2), \n",
    "                         c3 + sigma * np.random.randn(npts, 2)])\n",
    "\n",
    "fig, ax = plt.subplots()\n",
    "ax.scatter(dataset[:,0], dataset[:,1], marker='x')"
   ]
  },
  {
   "cell_type": "code",
   "execution_count": 24,
   "id": "e5ad4186-603b-4471-9b6d-1c1d9789ef3e",
   "metadata": {},
   "outputs": [],
   "source": [
    "# ECRIRE VOTRE CODE ICI.\n",
    "..."
   ]
  },
  {
   "cell_type": "markdown",
   "id": "6642236f-73eb-4101-8734-ece819283c83",
   "metadata": {},
   "source": [
    "-- Commenter les résultats obtenus ici --"
   ]
  },
  {
   "cell_type": "markdown",
   "id": "14670187-918e-4c27-b7b8-8d92be9fd775",
   "metadata": {},
   "source": [
    "---"
   ]
  },
  {
   "cell_type": "markdown",
   "id": "1efcd9d2-1a1d-4222-8c94-781864c52766",
   "metadata": {},
   "source": [
    "**Question 7: Améliorations.** Reprendre le code précédent en ajoutant diverses améliorations, en particulier :\n",
    "- (obligatoire) Déterminer l'énergie (valeur objectif) de la configuration finale atteinte (voire l'évolution de l'énergie au cours des itérations). \n",
    "\n",
    "Bonus : \n",
    "- Gérer les cas qui posent des problèmes (utilisateur qui fournit un mauvais `k`, etc.)\n",
    "- Enregistrer l'évolution des centroides au cours du temps pour pouvoir les afficher\n",
    "- Améliorer l'initialisation de l'algorithme. \n",
    "- etc."
   ]
  },
  {
   "cell_type": "markdown",
   "id": "b74692f5-5664-43db-a6d2-a16eb2b8e827",
   "metadata": {},
   "source": [
    "-- Commentez les modifications apportées et les résultats obtenus ici. --"
   ]
  },
  {
   "cell_type": "markdown",
   "id": "71d0e9cc-80cd-4137-a82f-d180a71b0127",
   "metadata": {},
   "source": [
    "## 2. Le dataset  _iris_ "
   ]
  },
  {
   "cell_type": "markdown",
   "id": "e4450261-a044-4e18-ae68-4b43ccf93b07",
   "metadata": {},
   "source": [
    "Cette partie du TP traite du dataset _iris_. C'est un petit jeu de données (150 observations) classique qui contient une description des _pétales_ et des _[sépales](https://fr.wikipedia.org/wiki/S%C3%A9pale)_ de différentes fleurs. "
   ]
  },
  {
   "cell_type": "code",
   "execution_count": 25,
   "id": "dc8d948e-a280-4485-97f7-5bf5fff004d0",
   "metadata": {},
   "outputs": [],
   "source": [
    "# On charge les données, disponible directement avec scikit-learn\n",
    "# sous la forme d'un dataframe utilisable par Pandas grâce à l'option as_frame=True.\n",
    "iris_data = datasets.load_iris(as_frame=True).data"
   ]
  },
  {
   "cell_type": "code",
   "execution_count": 26,
   "id": "f7f53f5c-dc72-4839-ab29-0e5d3075a04b",
   "metadata": {},
   "outputs": [
    {
     "data": {
      "text/html": [
       "<div>\n",
       "<style scoped>\n",
       "    .dataframe tbody tr th:only-of-type {\n",
       "        vertical-align: middle;\n",
       "    }\n",
       "\n",
       "    .dataframe tbody tr th {\n",
       "        vertical-align: top;\n",
       "    }\n",
       "\n",
       "    .dataframe thead th {\n",
       "        text-align: right;\n",
       "    }\n",
       "</style>\n",
       "<table border=\"1\" class=\"dataframe\">\n",
       "  <thead>\n",
       "    <tr style=\"text-align: right;\">\n",
       "      <th></th>\n",
       "      <th>sepal length (cm)</th>\n",
       "      <th>sepal width (cm)</th>\n",
       "      <th>petal length (cm)</th>\n",
       "      <th>petal width (cm)</th>\n",
       "    </tr>\n",
       "  </thead>\n",
       "  <tbody>\n",
       "    <tr>\n",
       "      <th>0</th>\n",
       "      <td>5.1</td>\n",
       "      <td>3.5</td>\n",
       "      <td>1.4</td>\n",
       "      <td>0.2</td>\n",
       "    </tr>\n",
       "    <tr>\n",
       "      <th>1</th>\n",
       "      <td>4.9</td>\n",
       "      <td>3.0</td>\n",
       "      <td>1.4</td>\n",
       "      <td>0.2</td>\n",
       "    </tr>\n",
       "    <tr>\n",
       "      <th>2</th>\n",
       "      <td>4.7</td>\n",
       "      <td>3.2</td>\n",
       "      <td>1.3</td>\n",
       "      <td>0.2</td>\n",
       "    </tr>\n",
       "    <tr>\n",
       "      <th>3</th>\n",
       "      <td>4.6</td>\n",
       "      <td>3.1</td>\n",
       "      <td>1.5</td>\n",
       "      <td>0.2</td>\n",
       "    </tr>\n",
       "    <tr>\n",
       "      <th>4</th>\n",
       "      <td>5.0</td>\n",
       "      <td>3.6</td>\n",
       "      <td>1.4</td>\n",
       "      <td>0.2</td>\n",
       "    </tr>\n",
       "    <tr>\n",
       "      <th>...</th>\n",
       "      <td>...</td>\n",
       "      <td>...</td>\n",
       "      <td>...</td>\n",
       "      <td>...</td>\n",
       "    </tr>\n",
       "    <tr>\n",
       "      <th>145</th>\n",
       "      <td>6.7</td>\n",
       "      <td>3.0</td>\n",
       "      <td>5.2</td>\n",
       "      <td>2.3</td>\n",
       "    </tr>\n",
       "    <tr>\n",
       "      <th>146</th>\n",
       "      <td>6.3</td>\n",
       "      <td>2.5</td>\n",
       "      <td>5.0</td>\n",
       "      <td>1.9</td>\n",
       "    </tr>\n",
       "    <tr>\n",
       "      <th>147</th>\n",
       "      <td>6.5</td>\n",
       "      <td>3.0</td>\n",
       "      <td>5.2</td>\n",
       "      <td>2.0</td>\n",
       "    </tr>\n",
       "    <tr>\n",
       "      <th>148</th>\n",
       "      <td>6.2</td>\n",
       "      <td>3.4</td>\n",
       "      <td>5.4</td>\n",
       "      <td>2.3</td>\n",
       "    </tr>\n",
       "    <tr>\n",
       "      <th>149</th>\n",
       "      <td>5.9</td>\n",
       "      <td>3.0</td>\n",
       "      <td>5.1</td>\n",
       "      <td>1.8</td>\n",
       "    </tr>\n",
       "  </tbody>\n",
       "</table>\n",
       "<p>150 rows × 4 columns</p>\n",
       "</div>"
      ],
      "text/plain": [
       "     sepal length (cm)  sepal width (cm)  petal length (cm)  petal width (cm)\n",
       "0                  5.1               3.5                1.4               0.2\n",
       "1                  4.9               3.0                1.4               0.2\n",
       "2                  4.7               3.2                1.3               0.2\n",
       "3                  4.6               3.1                1.5               0.2\n",
       "4                  5.0               3.6                1.4               0.2\n",
       "..                 ...               ...                ...               ...\n",
       "145                6.7               3.0                5.2               2.3\n",
       "146                6.3               2.5                5.0               1.9\n",
       "147                6.5               3.0                5.2               2.0\n",
       "148                6.2               3.4                5.4               2.3\n",
       "149                5.9               3.0                5.1               1.8\n",
       "\n",
       "[150 rows x 4 columns]"
      ]
     },
     "execution_count": 26,
     "metadata": {},
     "output_type": "execute_result"
    }
   ],
   "source": [
    "iris_data"
   ]
  },
  {
   "cell_type": "markdown",
   "id": "12d90f64-a3a9-4c19-88c1-ac14a0b3c34c",
   "metadata": {},
   "source": [
    "---"
   ]
  },
  {
   "cell_type": "markdown",
   "id": "665621e1-0e9d-4cfa-88eb-8d50a1832003",
   "metadata": {},
   "source": [
    "**Question 1:** En utilisant `pandas` (voir TP1), faire quelques observations préliminaires sur ce jeu de données : dimension des données, quelques remarques statistiques, quelques intuitions que vous avez, etc."
   ]
  },
  {
   "cell_type": "markdown",
   "id": "2172730a-b04b-49ee-a20e-9f2c5c667971",
   "metadata": {},
   "source": [
    "-- Écrire votre code et votre réponse ici --"
   ]
  },
  {
   "cell_type": "code",
   "execution_count": null,
   "id": "a588bd25-51c8-4022-b650-583dee76b97a",
   "metadata": {},
   "outputs": [],
   "source": []
  },
  {
   "cell_type": "markdown",
   "id": "15184723-d8ca-4e5e-ba35-e765bc8ea127",
   "metadata": {},
   "source": [
    "---"
   ]
  },
  {
   "cell_type": "markdown",
   "id": "99974a5c-f981-419a-865f-e54b92390886",
   "metadata": {},
   "source": [
    "Ces données sont en trop grande dimension pour être visualisées directement. Mais cela ne nous empêche pas de faire tourner nos algorithmes et de tirer des conclusions !\n",
    "\n",
    "**Question 2:** En utilisant votre implémentation `my_kmeans` de la partie 1, utilisez la \"stratégie du coude\" (voir cours) pour estimer combien de catégories différentes de fleurs on peut identifier dans le jeu de données _iris_. \n",
    "\n",
    "**Remarque :** si votre code ne fonctionne pas, vous pouvez à défaut utiliser la [fonction `KMeans` de `sklearn`](https://scikit-learn.org/stable/modules/generated/sklearn.cluster.KMeans.html) - lisez bien la documentation pour comprendre comment l'utiliser. "
   ]
  },
  {
   "cell_type": "code",
   "execution_count": 39,
   "id": "a77ba46a-bb6a-4fd2-b9d2-9148b9742c3a",
   "metadata": {},
   "outputs": [],
   "source": [
    "# Écrivez votre code ici"
   ]
  },
  {
   "cell_type": "markdown",
   "id": "e6b8e1d6-2874-431c-ba13-a63b3911a66e",
   "metadata": {},
   "source": [
    "---"
   ]
  },
  {
   "cell_type": "markdown",
   "id": "74906ce4-dfc1-4f02-92e1-8d1cf03192a3",
   "metadata": {},
   "source": [
    "Il serait intéressant de confirmer (ou infirmer) cette intuition. Une première idée serait de ne visualiser les données qu'en fonctions de certains paramètres (moins de 2, pour pouvoir afficher ça facilement). "
   ]
  },
  {
   "cell_type": "markdown",
   "id": "17b05192-5928-4f27-89ed-5f1695ae5b48",
   "metadata": {},
   "source": [
    "**Question 3:** Afficher les observations uniquement en fonction des dimensions de leurs sépales (_length_ et _width_, pour faire un plot en 2D donc)."
   ]
  },
  {
   "cell_type": "code",
   "execution_count": 20,
   "id": "5be5dd8d-b80c-4344-bc4b-7e709989a318",
   "metadata": {},
   "outputs": [],
   "source": [
    "# Écrivez votre code ici."
   ]
  },
  {
   "cell_type": "markdown",
   "id": "504a297c-4a47-4514-8aff-56041fa10228",
   "metadata": {},
   "source": [
    "---"
   ]
  },
  {
   "cell_type": "markdown",
   "id": "186d171e-7011-4b3d-a7a8-e9582c77cac1",
   "metadata": {},
   "source": [
    "**Question 4 :** Même question en affichant les observations en fonction de la dimension de leurs pétales. "
   ]
  },
  {
   "cell_type": "code",
   "execution_count": null,
   "id": "da7344b7-cf78-495b-a6ae-61ec0f8f3444",
   "metadata": {},
   "outputs": [],
   "source": [
    "# Écrivez votre code ici."
   ]
  },
  {
   "cell_type": "markdown",
   "id": "fefe3b98-0d70-4460-8d5a-0a122c4738f2",
   "metadata": {},
   "source": [
    "---"
   ]
  },
  {
   "cell_type": "markdown",
   "id": "f0fcdf75-7225-47e6-9d95-080f45222366",
   "metadata": {},
   "source": [
    "**Question 5 :** Cela confirme-t-il l'intuition que vous avez énoncé en question 2 ?"
   ]
  },
  {
   "cell_type": "markdown",
   "id": "8bd3a3c1-dc9a-4f5d-b4f6-18a04be23135",
   "metadata": {},
   "source": [
    "-- Écrivez votre réponse ici --"
   ]
  },
  {
   "cell_type": "markdown",
   "id": "985ba5c0-246d-4f05-8ef2-041bdda5c45e",
   "metadata": {},
   "source": [
    "---"
   ]
  },
  {
   "cell_type": "markdown",
   "id": "32c2a9ef-0161-428e-9a0b-b3501e5ba59c",
   "metadata": {},
   "source": [
    "Pour essayer d'approfondir notre analyse, nous allons réaliser une _Analyse en composantes principales_ (ACP, PCA en anglais). "
   ]
  },
  {
   "cell_type": "markdown",
   "id": "9060e6af-9294-4194-9a66-3554215a7d70",
   "metadata": {},
   "source": [
    "**Question 6 :** En jetant un oeil à la [documentation de scikit-learn](https://scikit-learn.org/stable/modules/decomposition.html#principal-component-analysis-pca), expliquez avez vos termes le principe de l'ACP (pas la peine de rentrer dans les détails mathématiques). "
   ]
  },
  {
   "cell_type": "markdown",
   "id": "0efe937e-7d49-41ab-afd4-16a416d90968",
   "metadata": {},
   "source": [
    "-- Écrivez votre réponse ici --"
   ]
  },
  {
   "cell_type": "markdown",
   "id": "393b8af4-3d66-4835-aca1-586f25c93448",
   "metadata": {},
   "source": [
    "---"
   ]
  },
  {
   "cell_type": "markdown",
   "id": "31bf67b7-8aeb-45ce-9f11-73f0e51ce176",
   "metadata": {},
   "source": [
    "**Question 7 :** Appliquez le [modèle d'ACP fourni par `sklearn` ](https://scikit-learn.org/stable/modules/generated/sklearn.decomposition.PCA.html) au dataset _iris_. Comparez aux résultats observés aux questions 3 et 4 de cette partie du TP. "
   ]
  },
  {
   "cell_type": "code",
   "execution_count": 31,
   "id": "adee664f-ed72-4d53-b4d9-a73634432b38",
   "metadata": {},
   "outputs": [],
   "source": [
    "# Écrivez votre code ici"
   ]
  },
  {
   "cell_type": "markdown",
   "id": "84cc9936-69f8-4b79-a514-659373eff088",
   "metadata": {},
   "source": [
    "-- Écrivez vos commentaires ici --"
   ]
  }
 ],
 "metadata": {
  "kernelspec": {
   "display_name": "Python 3",
   "language": "python",
   "name": "python3"
  },
  "language_info": {
   "codemirror_mode": {
    "name": "ipython",
    "version": 3
   },
   "file_extension": ".py",
   "mimetype": "text/x-python",
   "name": "python",
   "nbconvert_exporter": "python",
   "pygments_lexer": "ipython3",
   "version": "3.6.9"
  }
 },
 "nbformat": 4,
 "nbformat_minor": 5
}
