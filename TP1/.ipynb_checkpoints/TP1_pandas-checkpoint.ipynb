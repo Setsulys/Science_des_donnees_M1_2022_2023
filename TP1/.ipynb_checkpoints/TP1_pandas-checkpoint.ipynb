{
 "cells": [
  {
   "cell_type": "markdown",
   "id": "9b58247f-0b15-427d-a0dc-a76a713c48ea",
   "metadata": {},
   "source": [
    "# TP 1 : Premiers pas en science des données"
   ]
  },
  {
   "cell_type": "markdown",
   "id": "f8e14853-a411-4184-ba67-3c09b2614019",
   "metadata": {},
   "source": [
    "**Avant de commencer :** Merci de bien lire le préambule et l'énoncé de ce TP. Ça vous évitera de perdre beaucoup de temps ensuite. "
   ]
  },
  {
   "cell_type": "markdown",
   "id": "ab662174-bc6c-42f2-9caf-e13ffd63326a",
   "metadata": {},
   "source": [
    "**Rendu :** Ce TP doit être déposé sur elearning avant le 26/10/22, 23h59. Le rendu doit contenir uniquement le fichier `.ipynb`. Le notebook doit être propre, le plus illustré et le plus commenté possible. "
   ]
  },
  {
   "cell_type": "markdown",
   "id": "edb54692-f4aa-4607-8788-a1c030aeb276",
   "metadata": {},
   "source": [
    "**Librairies :** Ce TP repose sur les librairies standard suivantes : \n",
    "- Numpy version: 1.23.1\n",
    "- matplotlib version : 3.5.2\n",
    "- Pandas version: 1.4.3\n",
    "\n",
    "Pour vérifier qu'elles sont bien installées dans votre environnement de travail, lancez la cellule suivante. Elle ne doit pas renvoyer d'erreur (un `Warning` n'est en général pas trop embêtant). \n",
    "\n",
    "S'il vous manque une librairie (`No module named ...`), vous pouvez l'installer \n",
    "- Soit en utilisant votre gestionnaire d'environnement (p.ex. `conda`). \n",
    "- Soit directement depuis le notebook, en faisant\n",
    "```\n",
    "!pip install nom_de_la_librairie==numero_de_la_version\n",
    "```"
   ]
  },
  {
   "cell_type": "code",
   "execution_count": 38,
   "id": "a8cd512c-2638-4778-9a03-2327db394c9d",
   "metadata": {},
   "outputs": [
    {
     "name": "stdout",
     "output_type": "stream",
     "text": [
      "- Numpy version: 1.19.5\n",
      "- matplotlib version : 3.3.4\n",
      "- Pandas version: 1.1.5\n"
     ]
    }
   ],
   "source": [
    "import numpy as np\n",
    "import matplotlib\n",
    "import matplotlib.pyplot as plt\n",
    "import pandas as pd\n",
    "\n",
    "print(\"- Numpy version:\", np.__version__)\n",
    "print(\"- matplotlib version :\", matplotlib.__version__)\n",
    "print(\"- Pandas version:\", pd.__version__)"
   ]
  },
  {
   "cell_type": "markdown",
   "id": "c1ba3f22-299d-4b5e-a7a8-b3b24a136daf",
   "metadata": {},
   "source": [
    "**Objectifs du TP :** Ce TP a pour but de vous faire manipuler quelques outils essentiels en science des données, notamment au travers des librairies `pandas` et `matplotlib`. "
   ]
  },
  {
   "cell_type": "markdown",
   "id": "d6ed1304-9469-4a49-ae89-3ab70fb27c54",
   "metadata": {},
   "source": [
    "## 1. Exploration de la base DVF"
   ]
  },
  {
   "cell_type": "markdown",
   "id": "3719fcc6-b265-43f6-883d-eb1cc19ed86b",
   "metadata": {},
   "source": [
    "Cette partie est consacrée à l'exploration de la base DVF (Demande de Valeur Foncière). C'est une \"vraie\" base de données fournie par le service public et [disponible ici](https://www.data.gouv.fr/fr/datasets/demandes-de-valeurs-foncieres/).\n",
    "\n",
    "Cette base enregistre toutes les transactions immobilières réalisées chaque année en France. Cela concerne les achats-ventes de maisons, d'appartemments, mais aussi de locaux de commerce (magasins, etc.), d'immeubles de bureau, etc. Comme cette base est assez grosse (plus de trois millions d'entrées en 2021) et assez complète (beaucoup d'informations qui ne nous intéressent pas forcément aujourd'hui), on met à disposition pour ce TP une base `dvf_residentiel.csv` qui est une sous-partie de la base `dvf` officielle obtenue de la manière suivante : \n",
    "\n",
    "- On a gardé uniquement les transactions de type `appartement` et `maison`\n",
    "- On a gardé uniquement les transactions _unitaires_, c'est-à-dire où un seul logement est vendu (par opposition à la situation où un gros investisseur achète une résidence entière).\n",
    "- On a gardé uniquement les transactions ayant lieu en France métropolitaine. \n",
    "- On a gardé uniquement les transactions à plus de 10 000 € (on considère les autres comme non-fiables). \n",
    "- On a gardé uniquement les attributs suivants:\n",
    "  - 'code_departement' : type `str`, représentant le numéro de département où a eu lieu la transaction (p.ex. `'75'` pour une transaction à Paris)\n",
    "  - 'surface_reelle_bati' : type `float`, la surface (en m²) de l'habitation.\n",
    "  - 'nombre_pieces_principales' : type `float`, le nombre de pièces de l'habitation (chambre, salon, etc.)\n",
    "  - 'surface_terrain' : type `float`, la surface du terrain (jardin, etc., en m²). `NaN` si pas de terrain.\n",
    "  - 'longitude', 'latitude' : type `float`, les coordonnées GPS de l'habitation.\n",
    "  - 'valeur_fonciere' : la valeur, en €, à laquelle la transaction a été enregistrée chez le notaire. "
   ]
  },
  {
   "cell_type": "markdown",
   "id": "bb5e3d19-5031-4de1-99fa-8e6e1e997545",
   "metadata": {},
   "source": [
    "Chargement de la base de donnée : exécuter la cellule suivante pour charger la base de donnée dans un dataframe. Attention, le fichier `dvf_residentiel.csv` doit être dans le même répertoire que le fichier `.ipynb` sur lequel vous êtes en train de travailler. "
   ]
  },
  {
   "cell_type": "code",
   "execution_count": 39,
   "id": "015087e8-3e5b-431c-a108-d67c081532a1",
   "metadata": {},
   "outputs": [],
   "source": [
    "# On charge la base de données.\n",
    "# L'option dtype={'code_departement':'str'} indique que le code du département doit être traité comme une \n",
    "# chaîne de caractère. Ça permet d'éviter des bugs de typage avec la Corse (20A et 20B)).\n",
    "dvf = pd.read_csv('./dvf_residentiel.csv', dtype={'code_departement':'str'})"
   ]
  },
  {
   "cell_type": "markdown",
   "id": "547143f4-80f5-4a43-9547-1c5e387378b9",
   "metadata": {},
   "source": [
    "On peut maintenant visualiser notre jeu de données en exécurant la cellule suivante :"
   ]
  },
  {
   "cell_type": "code",
   "execution_count": 40,
   "id": "8b1f430f-7edb-4883-ad25-9c5cd209cab6",
   "metadata": {},
   "outputs": [
    {
     "data": {
      "text/html": [
       "<div>\n",
       "<style scoped>\n",
       "    .dataframe tbody tr th:only-of-type {\n",
       "        vertical-align: middle;\n",
       "    }\n",
       "\n",
       "    .dataframe tbody tr th {\n",
       "        vertical-align: top;\n",
       "    }\n",
       "\n",
       "    .dataframe thead th {\n",
       "        text-align: right;\n",
       "    }\n",
       "</style>\n",
       "<table border=\"1\" class=\"dataframe\">\n",
       "  <thead>\n",
       "    <tr style=\"text-align: right;\">\n",
       "      <th></th>\n",
       "      <th>code_departement</th>\n",
       "      <th>surface_reelle_bati</th>\n",
       "      <th>nombre_pieces_principales</th>\n",
       "      <th>surface_terrain</th>\n",
       "      <th>longitude</th>\n",
       "      <th>latitude</th>\n",
       "      <th>valeur_fonciere</th>\n",
       "    </tr>\n",
       "  </thead>\n",
       "  <tbody>\n",
       "    <tr>\n",
       "      <th>0</th>\n",
       "      <td>1</td>\n",
       "      <td>97.0</td>\n",
       "      <td>5.0</td>\n",
       "      <td>2410.0</td>\n",
       "      <td>5.386094</td>\n",
       "      <td>46.327140</td>\n",
       "      <td>185000.0</td>\n",
       "    </tr>\n",
       "    <tr>\n",
       "      <th>1</th>\n",
       "      <td>1</td>\n",
       "      <td>88.0</td>\n",
       "      <td>4.0</td>\n",
       "      <td>866.0</td>\n",
       "      <td>5.157688</td>\n",
       "      <td>46.200988</td>\n",
       "      <td>204332.0</td>\n",
       "    </tr>\n",
       "    <tr>\n",
       "      <th>2</th>\n",
       "      <td>1</td>\n",
       "      <td>168.0</td>\n",
       "      <td>5.0</td>\n",
       "      <td>1426.0</td>\n",
       "      <td>5.273260</td>\n",
       "      <td>46.156334</td>\n",
       "      <td>320000.0</td>\n",
       "    </tr>\n",
       "    <tr>\n",
       "      <th>3</th>\n",
       "      <td>1</td>\n",
       "      <td>71.0</td>\n",
       "      <td>3.0</td>\n",
       "      <td>NaN</td>\n",
       "      <td>5.200117</td>\n",
       "      <td>46.210292</td>\n",
       "      <td>176000.0</td>\n",
       "    </tr>\n",
       "    <tr>\n",
       "      <th>4</th>\n",
       "      <td>1</td>\n",
       "      <td>96.0</td>\n",
       "      <td>3.0</td>\n",
       "      <td>NaN</td>\n",
       "      <td>5.108604</td>\n",
       "      <td>46.244066</td>\n",
       "      <td>226700.0</td>\n",
       "    </tr>\n",
       "    <tr>\n",
       "      <th>...</th>\n",
       "      <td>...</td>\n",
       "      <td>...</td>\n",
       "      <td>...</td>\n",
       "      <td>...</td>\n",
       "      <td>...</td>\n",
       "      <td>...</td>\n",
       "      <td>...</td>\n",
       "    </tr>\n",
       "    <tr>\n",
       "      <th>714934</th>\n",
       "      <td>75</td>\n",
       "      <td>58.0</td>\n",
       "      <td>2.0</td>\n",
       "      <td>NaN</td>\n",
       "      <td>2.354883</td>\n",
       "      <td>48.852709</td>\n",
       "      <td>1550000.0</td>\n",
       "    </tr>\n",
       "    <tr>\n",
       "      <th>714935</th>\n",
       "      <td>75</td>\n",
       "      <td>15.0</td>\n",
       "      <td>1.0</td>\n",
       "      <td>NaN</td>\n",
       "      <td>2.345464</td>\n",
       "      <td>48.867430</td>\n",
       "      <td>190000.0</td>\n",
       "    </tr>\n",
       "    <tr>\n",
       "      <th>714936</th>\n",
       "      <td>75</td>\n",
       "      <td>15.0</td>\n",
       "      <td>1.0</td>\n",
       "      <td>NaN</td>\n",
       "      <td>2.350035</td>\n",
       "      <td>48.868906</td>\n",
       "      <td>230000.0</td>\n",
       "    </tr>\n",
       "    <tr>\n",
       "      <th>714937</th>\n",
       "      <td>75</td>\n",
       "      <td>30.0</td>\n",
       "      <td>2.0</td>\n",
       "      <td>NaN</td>\n",
       "      <td>2.367712</td>\n",
       "      <td>48.854200</td>\n",
       "      <td>383000.0</td>\n",
       "    </tr>\n",
       "    <tr>\n",
       "      <th>714938</th>\n",
       "      <td>75</td>\n",
       "      <td>37.0</td>\n",
       "      <td>2.0</td>\n",
       "      <td>NaN</td>\n",
       "      <td>2.350774</td>\n",
       "      <td>48.868450</td>\n",
       "      <td>260000.0</td>\n",
       "    </tr>\n",
       "  </tbody>\n",
       "</table>\n",
       "<p>714939 rows × 7 columns</p>\n",
       "</div>"
      ],
      "text/plain": [
       "       code_departement  surface_reelle_bati  nombre_pieces_principales  \\\n",
       "0                     1                 97.0                        5.0   \n",
       "1                     1                 88.0                        4.0   \n",
       "2                     1                168.0                        5.0   \n",
       "3                     1                 71.0                        3.0   \n",
       "4                     1                 96.0                        3.0   \n",
       "...                 ...                  ...                        ...   \n",
       "714934               75                 58.0                        2.0   \n",
       "714935               75                 15.0                        1.0   \n",
       "714936               75                 15.0                        1.0   \n",
       "714937               75                 30.0                        2.0   \n",
       "714938               75                 37.0                        2.0   \n",
       "\n",
       "        surface_terrain  longitude   latitude  valeur_fonciere  \n",
       "0                2410.0   5.386094  46.327140         185000.0  \n",
       "1                 866.0   5.157688  46.200988         204332.0  \n",
       "2                1426.0   5.273260  46.156334         320000.0  \n",
       "3                   NaN   5.200117  46.210292         176000.0  \n",
       "4                   NaN   5.108604  46.244066         226700.0  \n",
       "...                 ...        ...        ...              ...  \n",
       "714934              NaN   2.354883  48.852709        1550000.0  \n",
       "714935              NaN   2.345464  48.867430         190000.0  \n",
       "714936              NaN   2.350035  48.868906         230000.0  \n",
       "714937              NaN   2.367712  48.854200         383000.0  \n",
       "714938              NaN   2.350774  48.868450         260000.0  \n",
       "\n",
       "[714939 rows x 7 columns]"
      ]
     },
     "execution_count": 40,
     "metadata": {},
     "output_type": "execute_result"
    }
   ],
   "source": [
    "dvf"
   ]
  },
  {
   "cell_type": "markdown",
   "id": "1d12a7a1-1730-4ecc-b19a-8aab6daad3e3",
   "metadata": {},
   "source": [
    "---"
   ]
  },
  {
   "cell_type": "markdown",
   "id": "8dfbf8f4-28ff-4f10-9af1-d46fe72483f2",
   "metadata": {},
   "source": [
    "**Question 1 :** Combien d'observations contient cette base de donnée ? De quelle dimension sont nos données ?"
   ]
  },
  {
   "cell_type": "markdown",
   "id": "600472e3-1719-4858-9a32-6dcbce34df90",
   "metadata": {},
   "source": [
    "Cette base de donnée contient 714939 observations. Les données sont de dimension 7"
   ]
  },
  {
   "cell_type": "markdown",
   "id": "067939ad-0166-4e60-bd4d-5f89a578360d",
   "metadata": {},
   "source": [
    "---"
   ]
  },
  {
   "cell_type": "markdown",
   "id": "36db9452-8ddc-40d9-ad12-9ab97395c8ff",
   "metadata": {},
   "source": [
    "**Question 2 :** En utilisant les méthodes `.describe()` et `value_counts()` dont les documentations sont disponibles [ici](https://pandas.pydata.org/docs/reference/api/pandas.DataFrame.describe.html) et [là](https://pandas.pydata.org/docs/reference/api/pandas.Series.value_counts.html), répondre aux questions suivantes : \n",
    "\n",
    "- (a) Quelle a été le montant la transaction la plus élevée de l'année 2021 ? \n",
    "- (b) Combien de pièces avaient, en moyenne, les logements vendus au cours de cette année ? \n",
    "- (c) Dans quel département y a-t-il eu le plus de transactions ? Le moins de transactions ?\n",
    "\n",
    "_Remarque:_ Pour un meilleur affichage avec la méthode `.describe()`, on pourra ajouter `.apply(lambda x: format(x,'f'))`. Par exemple : `dvf['longitude'].describe().apply(lambda x: format(x,'f'))`"
   ]
  },
  {
   "cell_type": "code",
   "execution_count": 41,
   "id": "325fdf0a-f0fc-4c8c-81f4-d29be1b2760b",
   "metadata": {},
   "outputs": [
    {
     "data": {
      "text/plain": [
       "count      714939.000000\n",
       "mean       239577.480374\n",
       "std        338594.168717\n",
       "min         10000.580000\n",
       "25%        110000.000000\n",
       "50%        178350.000000\n",
       "75%        285000.000000\n",
       "max      89899536.000000\n",
       "Name: valeur_fonciere, dtype: object"
      ]
     },
     "execution_count": 41,
     "metadata": {},
     "output_type": "execute_result"
    }
   ],
   "source": [
    "dvf['valeur_fonciere'].describe().apply(lambda x :format(x,'f'))"
   ]
  },
  {
   "cell_type": "code",
   "execution_count": 42,
   "id": "twelve-biotechnology",
   "metadata": {},
   "outputs": [
    {
     "data": {
      "text/plain": [
       "count    714930.000000\n",
       "mean          3.500116\n",
       "std           1.516200\n",
       "min           0.000000\n",
       "25%           2.000000\n",
       "50%           3.000000\n",
       "75%           4.000000\n",
       "max          70.000000\n",
       "Name: nombre_pieces_principales, dtype: object"
      ]
     },
     "execution_count": 42,
     "metadata": {},
     "output_type": "execute_result"
    }
   ],
   "source": [
    "dvf['nombre_pieces_principales'].describe().apply(lambda x :format(x,'f'))"
   ]
  },
  {
   "cell_type": "code",
   "execution_count": 43,
   "id": "specified-pickup",
   "metadata": {},
   "outputs": [
    {
     "data": {
      "text/plain": [
       "59    35206\n",
       "75    31799\n",
       "33    24942\n",
       "44    23521\n",
       "6     22739\n",
       "      ...  \n",
       "5      1098\n",
       "46      732\n",
       "7       680\n",
       "2B      540\n",
       "48      489\n",
       "Name: code_departement, Length: 93, dtype: int64"
      ]
     },
     "execution_count": 43,
     "metadata": {},
     "output_type": "execute_result"
    }
   ],
   "source": [
    "dvf['code_departement'].value_counts()"
   ]
  },
  {
   "cell_type": "markdown",
   "id": "8511e2c9-ccc5-498c-b5f2-b56ea95320bd",
   "metadata": {},
   "source": [
    "(a) Le montant de la transaction la plus élevé de l'année 2021 est de 89 899 536"
   ]
  },
  {
   "cell_type": "markdown",
   "id": "c3a8dda9-5000-46a9-8651-8f11d7b0e2fe",
   "metadata": {},
   "source": [
    "(b) Le nombre de pièces moyen des logements vendus au cours de cette année est de 3.500116"
   ]
  },
  {
   "cell_type": "markdown",
   "id": "1ac56096",
   "metadata": {},
   "source": [
    "(c) Le département dans lequel il y a eu le plus de transaction est : 59 avec un nombre de transaction de 35 206\n",
    "    Le département dans lequel il y a eu le moins de transaction est : 48 avec un nombre de transaction de 489"
   ]
  },
  {
   "cell_type": "markdown",
   "id": "248c52e1-0ea3-47f3-81e0-632a61cb5174",
   "metadata": {},
   "source": [
    "**Question 3 :** En utilisant la méthode `.loc[]` dont la documentation est disponible [ici](https://pandas.pydata.org/docs/reference/api/pandas.DataFrame.loc.html), déterminer \n",
    "\n",
    "- (a) la valeur moyenne d'une transaction à Paris (code_departement=='75'). \n",
    "- (b) la valeur moyenne d'une transaction dans les Bouche-du-Rhône (code_departement=='13')."
   ]
  },
  {
   "cell_type": "code",
   "execution_count": 44,
   "id": "507d3645-9f68-4f1b-b40a-f855ca7dd675",
   "metadata": {},
   "outputs": [
    {
     "data": {
      "text/plain": [
       "count       31799.000000\n",
       "mean       636018.908031\n",
       "std        849222.162585\n",
       "min         10100.000000\n",
       "25%        285000.000000\n",
       "50%        450000.000000\n",
       "75%        740000.000000\n",
       "max      67800000.000000\n",
       "Name: valeur_fonciere, dtype: object"
      ]
     },
     "execution_count": 44,
     "metadata": {},
     "output_type": "execute_result"
    }
   ],
   "source": [
    "dvf['valeur_fonciere'].loc[dvf['code_departement']=='75'].describe().apply(lambda x :format(x,'f'))"
   ]
  },
  {
   "cell_type": "code",
   "execution_count": 45,
   "id": "wired-confidence",
   "metadata": {},
   "outputs": [
    {
     "data": {
      "text/plain": [
       "count      14748.000000\n",
       "mean      273452.298381\n",
       "std       254209.137071\n",
       "min        11000.000000\n",
       "25%       140000.000000\n",
       "50%       223475.000000\n",
       "75%       337325.000000\n",
       "max      9779465.000000\n",
       "Name: valeur_fonciere, dtype: object"
      ]
     },
     "execution_count": 45,
     "metadata": {},
     "output_type": "execute_result"
    }
   ],
   "source": [
    "dvf['valeur_fonciere'].loc[dvf['code_departement']=='13'].describe().apply(lambda x :format(x,'f'))"
   ]
  },
  {
   "cell_type": "markdown",
   "id": "c5c3a941-a489-47d6-8748-65f261ee5e35",
   "metadata": {},
   "source": [
    "(a) La valeur moyenne d'une transaction à Paris est de : 636 018.908031"
   ]
  },
  {
   "cell_type": "markdown",
   "id": "parallel-calgary",
   "metadata": {},
   "source": [
    "(b) La valeur moyenne d une transaction dans les Bouches-du-Rhône est de : 273 452.298381"
   ]
  },
  {
   "cell_type": "markdown",
   "id": "603264f2-87ea-4882-a33e-ba6bf7fcb923",
   "metadata": {},
   "source": [
    "---"
   ]
  },
  {
   "cell_type": "markdown",
   "id": "5a58be2f-2b9b-47e8-a83c-c05df0820c87",
   "metadata": {},
   "source": [
    "**Question 4 :** Faisons maintenant un peu de visualisation. En utilisant la méthode `.hist()` dont la documentation est disponible [ici](https://pandas.pydata.org/docs/reference/api/pandas.DataFrame.hist.html), afficher la distribution des valeurs pour les attributs suivants : 'surface_reelle_bati', 'nombre_pieces_principales', 'surface_terrain', et 'valeur_fonciere'. \n",
    "\n",
    "On choisira un nombre de `bins` adapté. \n",
    "\n",
    "Quel problème remarquez-vous avec les valeurs foncières et les surfaces de terrain ? Trouvez une solution pour améliorer la visualisation."
   ]
  },
  {
   "cell_type": "code",
   "execution_count": 46,
   "id": "5395b5ce-3a53-465b-ac16-5a7f42c291df",
   "metadata": {},
   "outputs": [
    {
     "data": {
      "text/plain": [
       "<AxesSubplot:>"
      ]
     },
     "execution_count": 46,
     "metadata": {},
     "output_type": "execute_result"
    },
    {
     "data": {
      "image/png": "[encoded data removed]",
      "text/plain": [
       "<Figure size 432x288 with 1 Axes>"
      ]
     },
     "metadata": {
      "needs_background": "light"
     },
     "output_type": "display_data"
    }
   ],
   "source": [
    "dvf['surface_reelle_bati'].hist(bins=1000)"
   ]
  },
  {
   "cell_type": "code",
   "execution_count": 47,
   "id": "focal-homeless",
   "metadata": {},
   "outputs": [
    {
     "data": {
      "text/plain": [
       "<AxesSubplot:>"
      ]
     },
     "execution_count": 47,
     "metadata": {},
     "output_type": "execute_result"
    },
    {
     "data": {
      "image/png": "[encoded data removed]",
      "text/plain": [
       "<Figure size 432x288 with 1 Axes>"
      ]
     },
     "metadata": {
      "needs_background": "light"
     },
     "output_type": "display_data"
    }
   ],
   "source": [
    "dvf['nombre_pieces_principales'].hist(bins=70)"
   ]
  },
  {
   "cell_type": "code",
   "execution_count": 48,
   "id": "dense-incident",
   "metadata": {},
   "outputs": [
    {
     "data": {
      "text/plain": [
       "<AxesSubplot:>"
      ]
     },
     "execution_count": 48,
     "metadata": {},
     "output_type": "execute_result"
    },
    {
     "data": {
      "image/png": "[encoded data removed]",
      "text/plain": [
       "<Figure size 432x288 with 1 Axes>"
      ]
     },
     "metadata": {
      "needs_background": "light"
     },
     "output_type": "display_data"
    }
   ],
   "source": [
    "dvf['surface_terrain'].hist(bins=70)"
   ]
  },
  {
   "cell_type": "code",
   "execution_count": 49,
   "id": "empty-mineral",
   "metadata": {},
   "outputs": [
    {
     "data": {
      "text/plain": [
       "<AxesSubplot:>"
      ]
     },
     "execution_count": 49,
     "metadata": {},
     "output_type": "execute_result"
    },
    {
     "data": {
      "image/png": "[encoded data removed]",
      "text/plain": [
       "<Figure size 432x288 with 1 Axes>"
      ]
     },
     "metadata": {
      "needs_background": "light"
     },
     "output_type": "display_data"
    }
   ],
   "source": [
    "dvf['valeur_fonciere'].hist(bins=100)"
   ]
  },
  {
   "cell_type": "markdown",
   "id": "32ade969-bdb7-442e-9f8e-e8de72c814cb",
   "metadata": {},
   "source": [
    "Pour les valeurs foncières et les surfaces de terrain les valeurs sont fortement élevé ce qui rend difficile la lecture, pour ameliorer la visualisation il faudrait réduire l'axe des abscisses negligeant quelques valeurs, soit on peut essayer de diviser le graphe en plusieurs morceaux pour mieux visualiser sans perdres de données"
   ]
  },
  {
   "cell_type": "markdown",
   "id": "4bd1ee7e-d51e-4fcd-aa4b-43e2e74c5fc8",
   "metadata": {},
   "source": [
    "---"
   ]
  },
  {
   "cell_type": "markdown",
   "id": "6dc00326-4045-4ecd-955a-4e39d4f467e6",
   "metadata": {},
   "source": [
    "**Question 5 :** Compléter le morceau de code suivant pour afficher (grâce au géo-codage) les transactions supérieuers à 1 000 000 €. Commentez le résultat obtenu. "
   ]
  },
  {
   "cell_type": "code",
   "execution_count": 50,
   "id": "c1358564-0fd0-4eb3-91fd-b768e210ab64",
   "metadata": {},
   "outputs": [
    {
     "data": {
      "text/plain": [
       "[Text(0.5, 1.0, 'Prix immobilier France'),\n",
       " Text(0.5, 0, 'longitude'),\n",
       " Text(0, 0.5, 'latitude')]"
      ]
     },
     "execution_count": 50,
     "metadata": {},
     "output_type": "execute_result"
    },
    {
     "data": {
      "image/png": "[encoded data removed]",
      "text/plain": [
       "<Figure size 432x288 with 1 Axes>"
      ]
     },
     "metadata": {
      "needs_background": "light"
     },
     "output_type": "display_data"
    }
   ],
   "source": [
    "#  A COMPLETER\n",
    "fig, ax = plt.subplots()\n",
    "\n",
    "z = ax.scatter(data =dvf.loc[dvf['valeur_fonciere']>1000000], \n",
    "               x='longitude', y='latitude', \n",
    "               alpha=0.5)\n",
    "\n",
    "ax.set(title='Prix immobilier France', xlabel='longitude', ylabel='latitude')"
   ]
  },
  {
   "cell_type": "markdown",
   "id": "ba617240-8e63-4abc-b0cc-2db18a9bdc8b",
   "metadata": {},
   "source": [
    "Nous avons une carte de la france avec le nombres de transaction superieurs à 1 000 000€: \n",
    "nous remarquons que les transactions de cette envergure se font surtout proches des grandes villes, metropoles.\n",
    "Nous remarquons aussi que là où les transactions de cette envergure se font le moins se trouvent sur ce que l'on nomme\"la diagonale du vide\""
   ]
  },
  {
   "cell_type": "markdown",
   "id": "d858f4a0-fd85-457f-8a98-a0e5a44f8fa1",
   "metadata": {},
   "source": [
    "---"
   ]
  },
  {
   "cell_type": "markdown",
   "id": "0af9745d-1bc3-4413-9472-9400fb79db05",
   "metadata": {},
   "source": [
    "**Question 6 :** Créez dans le dataFrame `dvf` une nouvelle variable 'prix_m2' qui stocke le prix au mettre-carré d'un logement, où on divise le prix du logement (valeur_fonciere) par sa surface (surface_reelle_bati). \n",
    "\n",
    "Remarque : on ne tient pas compte de la superficie du terrain ici."
   ]
  },
  {
   "cell_type": "code",
   "execution_count": 51,
   "id": "0bfa24b2-f460-4f92-8401-2fee0d97184d",
   "metadata": {},
   "outputs": [
    {
     "data": {
      "text/plain": [
       "0          1907.216495\n",
       "1          2321.954545\n",
       "2          1904.761905\n",
       "3          2478.873239\n",
       "4          2361.458333\n",
       "              ...     \n",
       "714934    26724.137931\n",
       "714935    12666.666667\n",
       "714936    15333.333333\n",
       "714937    12766.666667\n",
       "714938     7027.027027\n",
       "Name: prix_m2, Length: 714939, dtype: float64"
      ]
     },
     "execution_count": 51,
     "metadata": {},
     "output_type": "execute_result"
    }
   ],
   "source": [
    "dvf['prix_m2'] = dvf['valeur_fonciere']/dvf['surface_reelle_bati']\n",
    "dvf['prix_m2']"
   ]
  },
  {
   "cell_type": "markdown",
   "id": "c0d5e5fd-d1e3-4d49-b451-160ce89b1b9d",
   "metadata": {},
   "source": [
    "---"
   ]
  },
  {
   "cell_type": "markdown",
   "id": "a9fe2a24-af18-42c2-8231-1d3599f62f93",
   "metadata": {},
   "source": [
    "**Question 7 :** En déduire le prix moyen au m2 à Paris et dans les Bouches-du-Rhône en 2021."
   ]
  },
  {
   "cell_type": "code",
   "execution_count": 52,
   "id": "9c24b9bc-cb8e-4b7c-8706-14e06474149a",
   "metadata": {},
   "outputs": [
    {
     "data": {
      "text/plain": [
       "count      31799.000000\n",
       "mean       11410.823022\n",
       "std        11833.405671\n",
       "min           41.908714\n",
       "25%         9400.000000\n",
       "50%        10888.888889\n",
       "75%        12526.315789\n",
       "max      1329411.764706\n",
       "Name: prix_m2, dtype: object"
      ]
     },
     "execution_count": 52,
     "metadata": {},
     "output_type": "execute_result"
    }
   ],
   "source": [
    "dvf['prix_m2'].loc[dvf['code_departement']=='75'].describe().apply(lambda x :format(x,'f'))"
   ]
  },
  {
   "cell_type": "code",
   "execution_count": 53,
   "id": "funky-process",
   "metadata": {},
   "outputs": [
    {
     "data": {
      "text/plain": [
       "count     14748.000000\n",
       "mean       3621.257580\n",
       "std        2397.915590\n",
       "min          52.417994\n",
       "25%        2471.789727\n",
       "50%        3352.206364\n",
       "75%        4321.531199\n",
       "max      146803.333333\n",
       "Name: prix_m2, dtype: object"
      ]
     },
     "execution_count": 53,
     "metadata": {},
     "output_type": "execute_result"
    }
   ],
   "source": [
    "dvf['prix_m2'].loc[dvf['code_departement']=='13'].describe().apply(lambda x :format(x,'f'))"
   ]
  },
  {
   "cell_type": "markdown",
   "id": "26263095-9936-4733-8cb3-ba5f88ba1c03",
   "metadata": {},
   "source": [
    "Le prix moyen au m2 à Paris est de : 11 410.823022"
   ]
  },
  {
   "cell_type": "markdown",
   "id": "focused-bridge",
   "metadata": {},
   "source": [
    "Le prix moyen au m2 au Bouches-du-Rhône est de : 3 621.257580"
   ]
  },
  {
   "cell_type": "markdown",
   "id": "f35c087d-d4a4-480f-8cd0-b30e1eea0c89",
   "metadata": {},
   "source": [
    "---"
   ]
  },
  {
   "cell_type": "markdown",
   "id": "4c733c02-41f3-4dd5-8d7b-3a991d1e5568",
   "metadata": {},
   "source": [
    "**Question 8 :** En utilisant les méthodes `.isna()` et `.notna()` documentées [ici](https://pandas.pydata.org/docs/reference/api/pandas.DataFrame.isna.html) et [là](https://pandas.pydata.org/docs/reference/api/pandas.DataFrame.notna.html#pandas.DataFrame.notna), déterminer la différence de prix au m2 entre les logements disposant d'un terrain et ceux n'en disposant pas dans le Vaucluse ('code_departement'=='84') et un autre département de votre choix."
   ]
  },
  {
   "cell_type": "code",
   "execution_count": 54,
   "id": "7729e388-ad83-4609-8fb5-846c6b0d2fac",
   "metadata": {},
   "outputs": [
    {
     "data": {
      "text/plain": [
       "count     4424.000000\n",
       "mean      2906.031570\n",
       "std       1618.310379\n",
       "min         88.333333\n",
       "25%       2037.966571\n",
       "50%       2657.836257\n",
       "75%       3366.758787\n",
       "max      27637.281250\n",
       "Name: prix_m2, dtype: object"
      ]
     },
     "execution_count": 54,
     "metadata": {},
     "output_type": "execute_result"
    }
   ],
   "source": [
    "dvf['prix_m2'].loc[dvf['code_departement']=='84'].loc[dvf['surface_terrain'].notna()].describe().apply(lambda x :format(x,'f'))"
   ]
  },
  {
   "cell_type": "code",
   "execution_count": 55,
   "id": "loved-prague",
   "metadata": {},
   "outputs": [
    {
     "data": {
      "text/plain": [
       "count      3178.000000\n",
       "mean       2273.685780\n",
       "std        4114.327859\n",
       "min         194.029851\n",
       "25%        1500.000000\n",
       "50%        2095.529954\n",
       "75%        2669.715447\n",
       "max      220000.000000\n",
       "Name: prix_m2, dtype: object"
      ]
     },
     "execution_count": 55,
     "metadata": {},
     "output_type": "execute_result"
    }
   ],
   "source": [
    "dvf['prix_m2'].loc[dvf['code_departement']=='84'].loc[dvf['surface_terrain'].isna()].describe().apply(lambda x :format(x,'f'))"
   ]
  },
  {
   "cell_type": "code",
   "execution_count": 56,
   "id": "68331d55",
   "metadata": {},
   "outputs": [
    {
     "data": {
      "text/plain": [
       "632.3457899929713"
      ]
     },
     "execution_count": 56,
     "metadata": {},
     "output_type": "execute_result"
    }
   ],
   "source": [
    "with_field = dvf['prix_m2'].loc[dvf['code_departement']=='84'].loc[dvf['surface_terrain'].notna()].mean()\n",
    "without_field =dvf['prix_m2'].loc[dvf['code_departement']=='84'].loc[dvf['surface_terrain'].isna()].mean()\n",
    "\n",
    "with_field - without_field"
   ]
  },
  {
   "cell_type": "markdown",
   "id": "b6f1d746-7937-4a37-8765-ce83d456b8dc",
   "metadata": {},
   "source": [
    "Après calcul on a une difference de 632.3457899929713 de prix moyen de difference au m2  entre les logements disposant d'un terrain et ceux n'en disposant pas dans le Vaucluse"
   ]
  },
  {
   "cell_type": "markdown",
   "id": "c3bd90d5-f248-497a-9f69-869c43a55270",
   "metadata": {},
   "source": [
    "---"
   ]
  },
  {
   "cell_type": "markdown",
   "id": "52c9bace-d6b7-4c7e-9596-7cf56a5d5c90",
   "metadata": {},
   "source": [
    "**Question 9 :** Déterminer le département dans lequel, en moyenne, les logements vendus ont le plus de pièces principales.\n",
    "\n",
    "_Indication :_ On pourra utiliser la méthode `.unique()` documentée [ici](https://pandas.pydata.org/docs/reference/api/pandas.Series.unique.html). "
   ]
  },
  {
   "cell_type": "code",
   "execution_count": 75,
   "id": "fb87000b-a2eb-4624-a51b-ca3966bbc0a8",
   "metadata": {},
   "outputs": [
    {
     "data": {
      "text/html": [
       "<div>\n",
       "<style scoped>\n",
       "    .dataframe tbody tr th:only-of-type {\n",
       "        vertical-align: middle;\n",
       "    }\n",
       "\n",
       "    .dataframe tbody tr th {\n",
       "        vertical-align: top;\n",
       "    }\n",
       "\n",
       "    .dataframe thead th {\n",
       "        text-align: right;\n",
       "    }\n",
       "</style>\n",
       "<table border=\"1\" class=\"dataframe\">\n",
       "  <thead>\n",
       "    <tr style=\"text-align: right;\">\n",
       "      <th></th>\n",
       "      <th>surface_reelle_bati</th>\n",
       "      <th>nombre_pieces_principales</th>\n",
       "      <th>surface_terrain</th>\n",
       "      <th>longitude</th>\n",
       "      <th>latitude</th>\n",
       "      <th>valeur_fonciere</th>\n",
       "      <th>prix_m2</th>\n",
       "    </tr>\n",
       "    <tr>\n",
       "      <th>code_departement</th>\n",
       "      <th></th>\n",
       "      <th></th>\n",
       "      <th></th>\n",
       "      <th></th>\n",
       "      <th></th>\n",
       "      <th></th>\n",
       "      <th></th>\n",
       "    </tr>\n",
       "  </thead>\n",
       "  <tbody>\n",
       "    <tr>\n",
       "      <th>2</th>\n",
       "      <td>94.304429</td>\n",
       "      <td>4.073456</td>\n",
       "      <td>493.05091</td>\n",
       "      <td>3.452178</td>\n",
       "      <td>49.565309</td>\n",
       "      <td>118393.822913</td>\n",
       "      <td>1298.565191</td>\n",
       "    </tr>\n",
       "  </tbody>\n",
       "</table>\n",
       "</div>"
      ],
      "text/plain": [
       "                  surface_reelle_bati  nombre_pieces_principales  \\\n",
       "code_departement                                                   \n",
       "2                           94.304429                   4.073456   \n",
       "\n",
       "                  surface_terrain  longitude   latitude  valeur_fonciere  \\\n",
       "code_departement                                                           \n",
       "2                       493.05091   3.452178  49.565309    118393.822913   \n",
       "\n",
       "                      prix_m2  \n",
       "code_departement               \n",
       "2                 1298.565191  "
      ]
     },
     "execution_count": 75,
     "metadata": {},
     "output_type": "execute_result"
    }
   ],
   "source": [
    "dvf.groupby('code_departement').mean().sort_values('nombre_pieces_principales').iloc[-1:]"
   ]
  },
  {
   "cell_type": "markdown",
   "id": "a34f82a3-3fe7-4fb1-bad8-75ce4233237f",
   "metadata": {},
   "source": [
    "On remarque que le département dans lequel en moyenne les logements vendus ont le plus de pieces principales est le Haut-de-france (02) avec pour nombres de pieces principales moyennes 4.073456"
   ]
  },
  {
   "cell_type": "markdown",
   "id": "678ee645-70a5-45fc-ab1d-2b40e1488c9f",
   "metadata": {},
   "source": [
    "---"
   ]
  },
  {
   "cell_type": "markdown",
   "id": "6a9e9513-b882-47ec-b60e-5b9eac91ccf3",
   "metadata": {},
   "source": [
    "Faisons maintenant un peu de statistiques (avec les outils pratiques fourni par `pandas`). "
   ]
  },
  {
   "cell_type": "markdown",
   "id": "d1d2ff7d-b0ee-4b51-a0da-bf2fcd581c28",
   "metadata": {},
   "source": [
    "**Question 10 :** En utilisant la méthode `.corr()` documentée [ici](https://pandas.pydata.org/docs/reference/api/pandas.DataFrame.corr.html), déterminer quelles sont les variables les plus corrélées au prix ('valeur_fonciere') du logement."
   ]
  },
  {
   "cell_type": "code",
   "execution_count": 76,
   "id": "83c11395-3273-4e50-aae1-1e0e11f07eec",
   "metadata": {},
   "outputs": [
    {
     "data": {
      "text/html": [
       "<div>\n",
       "<style scoped>\n",
       "    .dataframe tbody tr th:only-of-type {\n",
       "        vertical-align: middle;\n",
       "    }\n",
       "\n",
       "    .dataframe tbody tr th {\n",
       "        vertical-align: top;\n",
       "    }\n",
       "\n",
       "    .dataframe thead th {\n",
       "        text-align: right;\n",
       "    }\n",
       "</style>\n",
       "<table border=\"1\" class=\"dataframe\">\n",
       "  <thead>\n",
       "    <tr style=\"text-align: right;\">\n",
       "      <th></th>\n",
       "      <th>surface_reelle_bati</th>\n",
       "      <th>nombre_pieces_principales</th>\n",
       "      <th>surface_terrain</th>\n",
       "      <th>longitude</th>\n",
       "      <th>latitude</th>\n",
       "      <th>valeur_fonciere</th>\n",
       "      <th>prix_m2</th>\n",
       "    </tr>\n",
       "  </thead>\n",
       "  <tbody>\n",
       "    <tr>\n",
       "      <th>surface_reelle_bati</th>\n",
       "      <td>1.000000</td>\n",
       "      <td>0.794636</td>\n",
       "      <td>0.124024</td>\n",
       "      <td>-0.071561</td>\n",
       "      <td>0.028351</td>\n",
       "      <td>0.271967</td>\n",
       "      <td>-0.129897</td>\n",
       "    </tr>\n",
       "    <tr>\n",
       "      <th>nombre_pieces_principales</th>\n",
       "      <td>0.794636</td>\n",
       "      <td>1.000000</td>\n",
       "      <td>0.063415</td>\n",
       "      <td>-0.081566</td>\n",
       "      <td>0.085763</td>\n",
       "      <td>0.199987</td>\n",
       "      <td>-0.130730</td>\n",
       "    </tr>\n",
       "    <tr>\n",
       "      <th>surface_terrain</th>\n",
       "      <td>0.124024</td>\n",
       "      <td>0.063415</td>\n",
       "      <td>1.000000</td>\n",
       "      <td>-0.014024</td>\n",
       "      <td>-0.050821</td>\n",
       "      <td>0.097210</td>\n",
       "      <td>0.068509</td>\n",
       "    </tr>\n",
       "    <tr>\n",
       "      <th>longitude</th>\n",
       "      <td>-0.071561</td>\n",
       "      <td>-0.081566</td>\n",
       "      <td>-0.014024</td>\n",
       "      <td>1.000000</td>\n",
       "      <td>-0.220488</td>\n",
       "      <td>0.011849</td>\n",
       "      <td>0.031755</td>\n",
       "    </tr>\n",
       "    <tr>\n",
       "      <th>latitude</th>\n",
       "      <td>0.028351</td>\n",
       "      <td>0.085763</td>\n",
       "      <td>-0.050821</td>\n",
       "      <td>-0.220488</td>\n",
       "      <td>1.000000</td>\n",
       "      <td>0.045157</td>\n",
       "      <td>0.052704</td>\n",
       "    </tr>\n",
       "    <tr>\n",
       "      <th>valeur_fonciere</th>\n",
       "      <td>0.271967</td>\n",
       "      <td>0.199987</td>\n",
       "      <td>0.097210</td>\n",
       "      <td>0.011849</td>\n",
       "      <td>0.045157</td>\n",
       "      <td>1.000000</td>\n",
       "      <td>0.750812</td>\n",
       "    </tr>\n",
       "    <tr>\n",
       "      <th>prix_m2</th>\n",
       "      <td>-0.129897</td>\n",
       "      <td>-0.130730</td>\n",
       "      <td>0.068509</td>\n",
       "      <td>0.031755</td>\n",
       "      <td>0.052704</td>\n",
       "      <td>0.750812</td>\n",
       "      <td>1.000000</td>\n",
       "    </tr>\n",
       "  </tbody>\n",
       "</table>\n",
       "</div>"
      ],
      "text/plain": [
       "                           surface_reelle_bati  nombre_pieces_principales  \\\n",
       "surface_reelle_bati                   1.000000                   0.794636   \n",
       "nombre_pieces_principales             0.794636                   1.000000   \n",
       "surface_terrain                       0.124024                   0.063415   \n",
       "longitude                            -0.071561                  -0.081566   \n",
       "latitude                              0.028351                   0.085763   \n",
       "valeur_fonciere                       0.271967                   0.199987   \n",
       "prix_m2                              -0.129897                  -0.130730   \n",
       "\n",
       "                           surface_terrain  longitude  latitude  \\\n",
       "surface_reelle_bati               0.124024  -0.071561  0.028351   \n",
       "nombre_pieces_principales         0.063415  -0.081566  0.085763   \n",
       "surface_terrain                   1.000000  -0.014024 -0.050821   \n",
       "longitude                        -0.014024   1.000000 -0.220488   \n",
       "latitude                         -0.050821  -0.220488  1.000000   \n",
       "valeur_fonciere                   0.097210   0.011849  0.045157   \n",
       "prix_m2                           0.068509   0.031755  0.052704   \n",
       "\n",
       "                           valeur_fonciere   prix_m2  \n",
       "surface_reelle_bati               0.271967 -0.129897  \n",
       "nombre_pieces_principales         0.199987 -0.130730  \n",
       "surface_terrain                   0.097210  0.068509  \n",
       "longitude                         0.011849  0.031755  \n",
       "latitude                          0.045157  0.052704  \n",
       "valeur_fonciere                   1.000000  0.750812  \n",
       "prix_m2                           0.750812  1.000000  "
      ]
     },
     "execution_count": 76,
     "metadata": {},
     "output_type": "execute_result"
    }
   ],
   "source": [
    "dvf.corr()"
   ]
  },
  {
   "cell_type": "markdown",
   "id": "f94c8bae-fc3d-454c-b3b1-3f597d93fde5",
   "metadata": {},
   "source": [
    "On peut voir que les variables les plus corrélérs au prix de la valeur fonciere sont:\n",
    " - la surface reelle bati\n",
    " - le nombre de pieces principales\n",
    " - la surface terrain\n",
    " - le prix au m²"
   ]
  },
  {
   "cell_type": "markdown",
   "id": "e1ac83f2-e4e8-4b6f-ba9b-35138ac42aac",
   "metadata": {},
   "source": [
    "---"
   ]
  },
  {
   "cell_type": "markdown",
   "id": "1cf469f1-9662-4ec8-9b3e-8a5a5cefc82b",
   "metadata": {},
   "source": [
    "## Partie 2 : Projet exploratoire"
   ]
  },
  {
   "cell_type": "markdown",
   "id": "299fb8be-5620-4dfc-bf14-bca51414e839",
   "metadata": {},
   "source": [
    "On travaille avec le dataset `earnings` évoqué ce matin en cours, disponible sous le nom `earnings.csv` et qu'on peut également télécharger [ici](https://www.kaggle.com/datasets/mukeshmanral/employ-earnings-data?select=batch2_jobID_00B80TR.csv). \n",
    "\n",
    "Ce dataset (en anglais) présente les salaires d'un million d'américains en fonction de divers paramètres : années d'expériences (`yearsExperience`), secteur d'activité (`industry`), filière choisie à l'université ('major'), etc. \n",
    "\n",
    "On vous demande d'explorer ce dataset, de tester des fonctionnalités `pandas`, de faire des remarques sur l'organisation des données, de la visualisation... \n",
    "\n",
    "Il n'y a pas de consigne spécifique : plus vous en faites, mieux ce sera !\n",
    "\n",
    "Quelques pistes néanmoins (vous n'êtes pas obligé de faire exactement ça, c'est juste pour donner des idées) : \n",
    "- Que remarquez vous sur la distribution des années d'expérience ? sur la représentation des secteurs d'activité ? Qu'en déduisez-vous sur ce jeu de données ? \n",
    "- Y a-t-il des données aberrantes ? \n",
    "- Si on cherche à maximiser son salaire, quelle 'major' faut-il choisir ? \n",
    "- (Plus technique) Quelle est, en moyenne, l'évolution relative de salaire qu'on peut espérer chaque année ? \n",
    "    - Note : évolution relative = (année_n+1 - année_n) / année_n ; par exemple si je suis passé de 100 à 110 de salaire, j'ai eu une évolution relative de (110 - 100)/100 = 0.1 = 10%. \n",
    "    \n",
    "    \n",
    "Mais le plus important est de faire preuve de curiosité avec les différentes variables (et les outils mis à disposition). "
   ]
  },
  {
   "cell_type": "code",
   "execution_count": 81,
   "id": "ce4ffd5e-7ae2-48f0-8566-74a3e4290e59",
   "metadata": {},
   "outputs": [],
   "source": [
    "df = pd.read_csv('./earnings.csv')"
   ]
  },
  {
   "cell_type": "code",
   "execution_count": 82,
   "id": "7fcbc681",
   "metadata": {},
   "outputs": [
    {
     "data": {
      "text/html": [
       "<div>\n",
       "<style scoped>\n",
       "    .dataframe tbody tr th:only-of-type {\n",
       "        vertical-align: middle;\n",
       "    }\n",
       "\n",
       "    .dataframe tbody tr th {\n",
       "        vertical-align: top;\n",
       "    }\n",
       "\n",
       "    .dataframe thead th {\n",
       "        text-align: right;\n",
       "    }\n",
       "</style>\n",
       "<table border=\"1\" class=\"dataframe\">\n",
       "  <thead>\n",
       "    <tr style=\"text-align: right;\">\n",
       "      <th></th>\n",
       "      <th>companyId</th>\n",
       "      <th>jobType</th>\n",
       "      <th>degree</th>\n",
       "      <th>major</th>\n",
       "      <th>industry</th>\n",
       "      <th>yearsExperience</th>\n",
       "      <th>milesFromMetropolis</th>\n",
       "      <th>salary</th>\n",
       "    </tr>\n",
       "  </thead>\n",
       "  <tbody>\n",
       "    <tr>\n",
       "      <th>0</th>\n",
       "      <td>COMP37</td>\n",
       "      <td>CFO</td>\n",
       "      <td>MASTERS</td>\n",
       "      <td>MATH</td>\n",
       "      <td>HEALTH</td>\n",
       "      <td>10</td>\n",
       "      <td>83</td>\n",
       "      <td>130</td>\n",
       "    </tr>\n",
       "    <tr>\n",
       "      <th>1</th>\n",
       "      <td>COMP19</td>\n",
       "      <td>CEO</td>\n",
       "      <td>HIGH_SCHOOL</td>\n",
       "      <td>NONE</td>\n",
       "      <td>WEB</td>\n",
       "      <td>3</td>\n",
       "      <td>73</td>\n",
       "      <td>101</td>\n",
       "    </tr>\n",
       "    <tr>\n",
       "      <th>2</th>\n",
       "      <td>COMP52</td>\n",
       "      <td>VICE_PRESIDENT</td>\n",
       "      <td>DOCTORAL</td>\n",
       "      <td>PHYSICS</td>\n",
       "      <td>HEALTH</td>\n",
       "      <td>10</td>\n",
       "      <td>38</td>\n",
       "      <td>137</td>\n",
       "    </tr>\n",
       "    <tr>\n",
       "      <th>3</th>\n",
       "      <td>COMP38</td>\n",
       "      <td>MANAGER</td>\n",
       "      <td>DOCTORAL</td>\n",
       "      <td>CHEMISTRY</td>\n",
       "      <td>AUTO</td>\n",
       "      <td>8</td>\n",
       "      <td>17</td>\n",
       "      <td>142</td>\n",
       "    </tr>\n",
       "    <tr>\n",
       "      <th>4</th>\n",
       "      <td>COMP7</td>\n",
       "      <td>VICE_PRESIDENT</td>\n",
       "      <td>BACHELORS</td>\n",
       "      <td>PHYSICS</td>\n",
       "      <td>FINANCE</td>\n",
       "      <td>8</td>\n",
       "      <td>16</td>\n",
       "      <td>163</td>\n",
       "    </tr>\n",
       "    <tr>\n",
       "      <th>...</th>\n",
       "      <td>...</td>\n",
       "      <td>...</td>\n",
       "      <td>...</td>\n",
       "      <td>...</td>\n",
       "      <td>...</td>\n",
       "      <td>...</td>\n",
       "      <td>...</td>\n",
       "      <td>...</td>\n",
       "    </tr>\n",
       "    <tr>\n",
       "      <th>999995</th>\n",
       "      <td>COMP56</td>\n",
       "      <td>VICE_PRESIDENT</td>\n",
       "      <td>BACHELORS</td>\n",
       "      <td>CHEMISTRY</td>\n",
       "      <td>HEALTH</td>\n",
       "      <td>19</td>\n",
       "      <td>94</td>\n",
       "      <td>88</td>\n",
       "    </tr>\n",
       "    <tr>\n",
       "      <th>999996</th>\n",
       "      <td>COMP24</td>\n",
       "      <td>CTO</td>\n",
       "      <td>HIGH_SCHOOL</td>\n",
       "      <td>NONE</td>\n",
       "      <td>FINANCE</td>\n",
       "      <td>12</td>\n",
       "      <td>35</td>\n",
       "      <td>160</td>\n",
       "    </tr>\n",
       "    <tr>\n",
       "      <th>999997</th>\n",
       "      <td>COMP23</td>\n",
       "      <td>JUNIOR</td>\n",
       "      <td>HIGH_SCHOOL</td>\n",
       "      <td>NONE</td>\n",
       "      <td>EDUCATION</td>\n",
       "      <td>16</td>\n",
       "      <td>81</td>\n",
       "      <td>64</td>\n",
       "    </tr>\n",
       "    <tr>\n",
       "      <th>999998</th>\n",
       "      <td>COMP3</td>\n",
       "      <td>CFO</td>\n",
       "      <td>MASTERS</td>\n",
       "      <td>NONE</td>\n",
       "      <td>HEALTH</td>\n",
       "      <td>6</td>\n",
       "      <td>5</td>\n",
       "      <td>149</td>\n",
       "    </tr>\n",
       "    <tr>\n",
       "      <th>999999</th>\n",
       "      <td>COMP59</td>\n",
       "      <td>JUNIOR</td>\n",
       "      <td>BACHELORS</td>\n",
       "      <td>NONE</td>\n",
       "      <td>EDUCATION</td>\n",
       "      <td>20</td>\n",
       "      <td>11</td>\n",
       "      <td>88</td>\n",
       "    </tr>\n",
       "  </tbody>\n",
       "</table>\n",
       "<p>1000000 rows × 8 columns</p>\n",
       "</div>"
      ],
      "text/plain": [
       "       companyId         jobType       degree      major   industry  \\\n",
       "0         COMP37             CFO      MASTERS       MATH     HEALTH   \n",
       "1         COMP19             CEO  HIGH_SCHOOL       NONE        WEB   \n",
       "2         COMP52  VICE_PRESIDENT     DOCTORAL    PHYSICS     HEALTH   \n",
       "3         COMP38         MANAGER     DOCTORAL  CHEMISTRY       AUTO   \n",
       "4          COMP7  VICE_PRESIDENT    BACHELORS    PHYSICS    FINANCE   \n",
       "...          ...             ...          ...        ...        ...   \n",
       "999995    COMP56  VICE_PRESIDENT    BACHELORS  CHEMISTRY     HEALTH   \n",
       "999996    COMP24             CTO  HIGH_SCHOOL       NONE    FINANCE   \n",
       "999997    COMP23          JUNIOR  HIGH_SCHOOL       NONE  EDUCATION   \n",
       "999998     COMP3             CFO      MASTERS       NONE     HEALTH   \n",
       "999999    COMP59          JUNIOR    BACHELORS       NONE  EDUCATION   \n",
       "\n",
       "        yearsExperience  milesFromMetropolis  salary  \n",
       "0                    10                   83     130  \n",
       "1                     3                   73     101  \n",
       "2                    10                   38     137  \n",
       "3                     8                   17     142  \n",
       "4                     8                   16     163  \n",
       "...                 ...                  ...     ...  \n",
       "999995               19                   94      88  \n",
       "999996               12                   35     160  \n",
       "999997               16                   81      64  \n",
       "999998                6                    5     149  \n",
       "999999               20                   11      88  \n",
       "\n",
       "[1000000 rows x 8 columns]"
      ]
     },
     "execution_count": 82,
     "metadata": {},
     "output_type": "execute_result"
    }
   ],
   "source": [
    "df"
   ]
  },
  {
   "cell_type": "code",
   "execution_count": 85,
   "id": "d477d2df",
   "metadata": {},
   "outputs": [
    {
     "data": {
      "text/plain": [
       "count    1000000.000000\n",
       "mean          11.992386\n",
       "std            7.212391\n",
       "min            0.000000\n",
       "25%            6.000000\n",
       "50%           12.000000\n",
       "75%           18.000000\n",
       "max           24.000000\n",
       "Name: yearsExperience, dtype: object"
      ]
     },
     "execution_count": 85,
     "metadata": {},
     "output_type": "execute_result"
    }
   ],
   "source": [
    "df['yearsExperience'].describe().apply(lambda x :format(x,'f'))"
   ]
  },
  {
   "cell_type": "markdown",
   "id": "c7bfaf78",
   "metadata": {},
   "source": [
    "On remarque que :\n",
    "- l'année d'experience moyen est de : 11.992386 ans\n",
    "- les personnes les plus experimentés ont 24 ans d'experiences"
   ]
  },
  {
   "cell_type": "code",
   "execution_count": 93,
   "id": "c59d0a0e",
   "metadata": {},
   "outputs": [
    {
     "data": {
      "text/plain": [
       "WEB          143206\n",
       "AUTO         142943\n",
       "FINANCE      142867\n",
       "EDUCATION    142819\n",
       "OIL          142771\n",
       "HEALTH       142755\n",
       "SERVICE      142639\n",
       "Name: industry, dtype: int64"
      ]
     },
     "execution_count": 93,
     "metadata": {},
     "output_type": "execute_result"
    }
   ],
   "source": [
    "df['industry'].value_counts()"
   ]
  },
  {
   "cell_type": "markdown",
   "id": "07e55229",
   "metadata": {},
   "source": [
    "L'industrie dans laquel on a le plus de donnée est le WEB"
   ]
  },
  {
   "cell_type": "code",
   "execution_count": 94,
   "id": "fcc93961",
   "metadata": {},
   "outputs": [
    {
     "data": {
      "text/html": [
       "<div>\n",
       "<style scoped>\n",
       "    .dataframe tbody tr th:only-of-type {\n",
       "        vertical-align: middle;\n",
       "    }\n",
       "\n",
       "    .dataframe tbody tr th {\n",
       "        vertical-align: top;\n",
       "    }\n",
       "\n",
       "    .dataframe thead th {\n",
       "        text-align: right;\n",
       "    }\n",
       "</style>\n",
       "<table border=\"1\" class=\"dataframe\">\n",
       "  <thead>\n",
       "    <tr style=\"text-align: right;\">\n",
       "      <th></th>\n",
       "      <th>yearsExperience</th>\n",
       "      <th>milesFromMetropolis</th>\n",
       "      <th>salary</th>\n",
       "    </tr>\n",
       "    <tr>\n",
       "      <th>industry</th>\n",
       "      <th></th>\n",
       "      <th></th>\n",
       "      <th></th>\n",
       "    </tr>\n",
       "  </thead>\n",
       "  <tbody>\n",
       "    <tr>\n",
       "      <th>EDUCATION</th>\n",
       "      <td>12.000105</td>\n",
       "      <td>49.586442</td>\n",
       "      <td>99.448386</td>\n",
       "    </tr>\n",
       "    <tr>\n",
       "      <th>SERVICE</th>\n",
       "      <td>11.994665</td>\n",
       "      <td>49.577878</td>\n",
       "      <td>104.446820</td>\n",
       "    </tr>\n",
       "    <tr>\n",
       "      <th>AUTO</th>\n",
       "      <td>11.974668</td>\n",
       "      <td>49.553521</td>\n",
       "      <td>109.433690</td>\n",
       "    </tr>\n",
       "    <tr>\n",
       "      <th>HEALTH</th>\n",
       "      <td>11.972856</td>\n",
       "      <td>49.501061</td>\n",
       "      <td>115.735540</td>\n",
       "    </tr>\n",
       "    <tr>\n",
       "      <th>WEB</th>\n",
       "      <td>11.988227</td>\n",
       "      <td>49.463172</td>\n",
       "      <td>121.644512</td>\n",
       "    </tr>\n",
       "    <tr>\n",
       "      <th>FINANCE</th>\n",
       "      <td>12.009715</td>\n",
       "      <td>49.532635</td>\n",
       "      <td>130.746743</td>\n",
       "    </tr>\n",
       "    <tr>\n",
       "      <th>OIL</th>\n",
       "      <td>12.006486</td>\n",
       "      <td>49.490303</td>\n",
       "      <td>130.952946</td>\n",
       "    </tr>\n",
       "  </tbody>\n",
       "</table>\n",
       "</div>"
      ],
      "text/plain": [
       "           yearsExperience  milesFromMetropolis      salary\n",
       "industry                                                   \n",
       "EDUCATION        12.000105            49.586442   99.448386\n",
       "SERVICE          11.994665            49.577878  104.446820\n",
       "AUTO             11.974668            49.553521  109.433690\n",
       "HEALTH           11.972856            49.501061  115.735540\n",
       "WEB              11.988227            49.463172  121.644512\n",
       "FINANCE          12.009715            49.532635  130.746743\n",
       "OIL              12.006486            49.490303  130.952946"
      ]
     },
     "execution_count": 94,
     "metadata": {},
     "output_type": "execute_result"
    }
   ],
   "source": [
    "df.groupby('industry').mean().sort_values('salary')"
   ]
  },
  {
   "cell_type": "code",
   "execution_count": 95,
   "id": "65b15b54",
   "metadata": {},
   "outputs": [
    {
     "data": {
      "text/plain": [
       "SENIOR            125886\n",
       "VICE_PRESIDENT    125235\n",
       "MANAGER           125121\n",
       "CTO               125046\n",
       "JANITOR           124971\n",
       "CEO               124778\n",
       "JUNIOR            124594\n",
       "CFO               124369\n",
       "Name: jobType, dtype: int64"
      ]
     },
     "execution_count": 95,
     "metadata": {},
     "output_type": "execute_result"
    }
   ],
   "source": [
    "df['jobType'].value_counts()"
   ]
  },
  {
   "cell_type": "code",
   "execution_count": 110,
   "id": "65ffa4b4",
   "metadata": {},
   "outputs": [
    {
     "data": {
      "text/plain": [
       "HIGH_SCHOOL    236976\n",
       "NONE           236854\n",
       "BACHELORS      175495\n",
       "DOCTORAL       175364\n",
       "MASTERS        175311\n",
       "Name: degree, dtype: int64"
      ]
     },
     "execution_count": 110,
     "metadata": {},
     "output_type": "execute_result"
    }
   ],
   "source": [
    "df['degree'].value_counts()"
   ]
  },
  {
   "cell_type": "code",
   "execution_count": 125,
   "id": "f633ae93",
   "metadata": {},
   "outputs": [
    {
     "data": {
      "text/plain": [
       "<AxesSubplot:>"
      ]
     },
     "execution_count": 125,
     "metadata": {},
     "output_type": "execute_result"
    },
    {
     "data": {
      "image/png": "[encoded data removed]",
      "text/plain": [
       "<Figure size 432x288 with 1 Axes>"
      ]
     },
     "metadata": {
      "needs_background": "light"
     },
     "output_type": "display_data"
    }
   ],
   "source": [
    "df['salary'].hist(bins=100)"
   ]
  },
  {
   "cell_type": "code",
   "execution_count": 171,
   "id": "f2f9d927",
   "metadata": {},
   "outputs": [
    {
     "data": {
      "text/plain": [
       "<AxesSubplot:>"
      ]
     },
     "execution_count": 171,
     "metadata": {},
     "output_type": "execute_result"
    },
    {
     "data": {
      "image/png": "[encoded data removed]",
      "text/plain": [
       "<Figure size 432x288 with 1 Axes>"
      ]
     },
     "metadata": {
      "needs_background": "light"
     },
     "output_type": "display_data"
    }
   ],
   "source": [
    "df['degree'].hist()"
   ]
  },
  {
   "cell_type": "code",
   "execution_count": 172,
   "id": "cab6ebe2",
   "metadata": {},
   "outputs": [
    {
     "data": {
      "text/plain": [
       "<AxesSubplot:ylabel='Frequency'>"
      ]
     },
     "execution_count": 172,
     "metadata": {},
     "output_type": "execute_result"
    },
    {
     "data": {
      "image/png": "[encoded data removed]",
      "text/plain": [
       "<Figure size 432x288 with 1 Axes>"
      ]
     },
     "metadata": {
      "needs_background": "light"
     },
     "output_type": "display_data"
    }
   ],
   "source": [
    "df['yearsExperience'].loc[df['major']=='CHEMISTRY'].plot.hist(bins=30,ylim=(2250,2500))"
   ]
  },
  {
   "cell_type": "code",
   "execution_count": 174,
   "id": "ee67cf2b",
   "metadata": {},
   "outputs": [
    {
     "data": {
      "text/html": [
       "<div>\n",
       "<style scoped>\n",
       "    .dataframe tbody tr th:only-of-type {\n",
       "        vertical-align: middle;\n",
       "    }\n",
       "\n",
       "    .dataframe tbody tr th {\n",
       "        vertical-align: top;\n",
       "    }\n",
       "\n",
       "    .dataframe thead th {\n",
       "        text-align: right;\n",
       "    }\n",
       "</style>\n",
       "<table border=\"1\" class=\"dataframe\">\n",
       "  <thead>\n",
       "    <tr style=\"text-align: right;\">\n",
       "      <th></th>\n",
       "      <th>milesFromMetropolis</th>\n",
       "      <th>salary</th>\n",
       "    </tr>\n",
       "    <tr>\n",
       "      <th>yearsExperience</th>\n",
       "      <th></th>\n",
       "      <th></th>\n",
       "    </tr>\n",
       "  </thead>\n",
       "  <tbody>\n",
       "    <tr>\n",
       "      <th>0</th>\n",
       "      <td>49.718617</td>\n",
       "      <td>91.873541</td>\n",
       "    </tr>\n",
       "    <tr>\n",
       "      <th>1</th>\n",
       "      <td>49.569353</td>\n",
       "      <td>93.960040</td>\n",
       "    </tr>\n",
       "    <tr>\n",
       "      <th>2</th>\n",
       "      <td>49.558497</td>\n",
       "      <td>96.125184</td>\n",
       "    </tr>\n",
       "    <tr>\n",
       "      <th>3</th>\n",
       "      <td>49.579931</td>\n",
       "      <td>98.090368</td>\n",
       "    </tr>\n",
       "    <tr>\n",
       "      <th>4</th>\n",
       "      <td>49.292737</td>\n",
       "      <td>100.014112</td>\n",
       "    </tr>\n",
       "    <tr>\n",
       "      <th>5</th>\n",
       "      <td>49.486667</td>\n",
       "      <td>101.681154</td>\n",
       "    </tr>\n",
       "    <tr>\n",
       "      <th>6</th>\n",
       "      <td>49.664048</td>\n",
       "      <td>103.921686</td>\n",
       "    </tr>\n",
       "    <tr>\n",
       "      <th>7</th>\n",
       "      <td>49.363323</td>\n",
       "      <td>106.045022</td>\n",
       "    </tr>\n",
       "    <tr>\n",
       "      <th>8</th>\n",
       "      <td>49.664988</td>\n",
       "      <td>107.838601</td>\n",
       "    </tr>\n",
       "    <tr>\n",
       "      <th>9</th>\n",
       "      <td>49.343035</td>\n",
       "      <td>110.106375</td>\n",
       "    </tr>\n",
       "    <tr>\n",
       "      <th>10</th>\n",
       "      <td>49.245054</td>\n",
       "      <td>112.167091</td>\n",
       "    </tr>\n",
       "    <tr>\n",
       "      <th>11</th>\n",
       "      <td>49.422664</td>\n",
       "      <td>113.941425</td>\n",
       "    </tr>\n",
       "    <tr>\n",
       "      <th>12</th>\n",
       "      <td>49.419186</td>\n",
       "      <td>116.342387</td>\n",
       "    </tr>\n",
       "    <tr>\n",
       "      <th>13</th>\n",
       "      <td>49.561141</td>\n",
       "      <td>117.899839</td>\n",
       "    </tr>\n",
       "    <tr>\n",
       "      <th>14</th>\n",
       "      <td>49.294700</td>\n",
       "      <td>120.266277</td>\n",
       "    </tr>\n",
       "    <tr>\n",
       "      <th>15</th>\n",
       "      <td>49.632119</td>\n",
       "      <td>121.903850</td>\n",
       "    </tr>\n",
       "    <tr>\n",
       "      <th>16</th>\n",
       "      <td>49.494470</td>\n",
       "      <td>124.149525</td>\n",
       "    </tr>\n",
       "    <tr>\n",
       "      <th>17</th>\n",
       "      <td>49.701637</td>\n",
       "      <td>126.151303</td>\n",
       "    </tr>\n",
       "    <tr>\n",
       "      <th>18</th>\n",
       "      <td>49.707626</td>\n",
       "      <td>128.427898</td>\n",
       "    </tr>\n",
       "    <tr>\n",
       "      <th>19</th>\n",
       "      <td>49.799222</td>\n",
       "      <td>130.008831</td>\n",
       "    </tr>\n",
       "    <tr>\n",
       "      <th>20</th>\n",
       "      <td>49.460988</td>\n",
       "      <td>132.091377</td>\n",
       "    </tr>\n",
       "    <tr>\n",
       "      <th>21</th>\n",
       "      <td>49.749189</td>\n",
       "      <td>134.002415</td>\n",
       "    </tr>\n",
       "    <tr>\n",
       "      <th>22</th>\n",
       "      <td>49.444721</td>\n",
       "      <td>136.350785</td>\n",
       "    </tr>\n",
       "    <tr>\n",
       "      <th>23</th>\n",
       "      <td>49.587905</td>\n",
       "      <td>138.439010</td>\n",
       "    </tr>\n",
       "    <tr>\n",
       "      <th>24</th>\n",
       "      <td>49.469242</td>\n",
       "      <td>140.131109</td>\n",
       "    </tr>\n",
       "  </tbody>\n",
       "</table>\n",
       "</div>"
      ],
      "text/plain": [
       "                 milesFromMetropolis      salary\n",
       "yearsExperience                                 \n",
       "0                          49.718617   91.873541\n",
       "1                          49.569353   93.960040\n",
       "2                          49.558497   96.125184\n",
       "3                          49.579931   98.090368\n",
       "4                          49.292737  100.014112\n",
       "5                          49.486667  101.681154\n",
       "6                          49.664048  103.921686\n",
       "7                          49.363323  106.045022\n",
       "8                          49.664988  107.838601\n",
       "9                          49.343035  110.106375\n",
       "10                         49.245054  112.167091\n",
       "11                         49.422664  113.941425\n",
       "12                         49.419186  116.342387\n",
       "13                         49.561141  117.899839\n",
       "14                         49.294700  120.266277\n",
       "15                         49.632119  121.903850\n",
       "16                         49.494470  124.149525\n",
       "17                         49.701637  126.151303\n",
       "18                         49.707626  128.427898\n",
       "19                         49.799222  130.008831\n",
       "20                         49.460988  132.091377\n",
       "21                         49.749189  134.002415\n",
       "22                         49.444721  136.350785\n",
       "23                         49.587905  138.439010\n",
       "24                         49.469242  140.131109"
      ]
     },
     "execution_count": 174,
     "metadata": {},
     "output_type": "execute_result"
    }
   ],
   "source": [
    "df.groupby('yearsExperience').mean().sort_values('salary')"
   ]
  },
  {
   "cell_type": "code",
   "execution_count": null,
   "id": "0d41b7c6",
   "metadata": {},
   "outputs": [],
   "source": []
  }
 ],
 "metadata": {
  "kernelspec": {
   "display_name": "Python 3",
   "language": "python",
   "name": "python3"
  },
  "language_info": {
   "codemirror_mode": {
    "name": "ipython",
    "version": 3
   },
   "file_extension": ".py",
   "mimetype": "text/x-python",
   "name": "python",
   "nbconvert_exporter": "python",
   "pygments_lexer": "ipython3",
   "version": "3.6.9"
  }
 },
 "nbformat": 4,
 "nbformat_minor": 5
}
